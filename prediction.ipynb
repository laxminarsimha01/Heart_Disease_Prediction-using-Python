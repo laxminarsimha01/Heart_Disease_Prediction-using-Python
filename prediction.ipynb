{
 "cells": [
  {
   "cell_type": "markdown",
   "id": "ea7acc0a",
   "metadata": {},
   "source": [
    "# CardioVascular Heart Disease Prediction System"
   ]
  },
  {
   "cell_type": "markdown",
   "id": "38fb661e",
   "metadata": {},
   "source": [
    "# (i) Data Exploration"
   ]
  },
  {
   "cell_type": "code",
   "execution_count": 1,
   "id": "59a3e399",
   "metadata": {},
   "outputs": [
    {
     "name": "stdout",
     "output_type": "stream",
     "text": [
      "   id    age  gender  height  weight  ap_hi  ap_lo  cholesterol  gluc  smoke  \\\n",
      "0   0  18393       2     168    62.0    110     80            1     1      0   \n",
      "1   1  20228       1     156    85.0    140     90            3     1      0   \n",
      "2   2  18857       1     165    64.0    130     70            3     1      0   \n",
      "3   3  17623       2     169    82.0    150    100            1     1      0   \n",
      "4   4  17474       1     156    56.0    100     60            1     1      0   \n",
      "\n",
      "   alco  active  cardio  \n",
      "0     0       1       0  \n",
      "1     0       1       1  \n",
      "2     0       0       1  \n",
      "3     0       1       1  \n",
      "4     0       0       0  \n"
     ]
    }
   ],
   "source": [
    "import pandas as pd\n",
    "import numpy as np\n",
    "import matplotlib.pyplot as plt\n",
    "import seaborn as sns\n",
    "from plotnine import *\n",
    "from scipy.stats import chi2_contingency, ttest_ind, pearsonr\n",
    "from scipy import stats\n",
    "from sklearn.tree import DecisionTreeClassifier\n",
    "from sklearn.metrics import accuracy_score\n",
    "\n",
    "\n",
    "import statsmodels.api as sm\n",
    "from sklearn.model_selection import train_test_split\n",
    "\n",
    "\n",
    "\n",
    "data = pd.read_csv(\"heartDS.csv\")  # Reading the data\n",
    "\n",
    "# Print first few rows of the data\n",
    "print(data.head())\n"
   ]
  },
  {
   "cell_type": "code",
   "execution_count": 2,
   "id": "34e134f7",
   "metadata": {},
   "outputs": [
    {
     "name": "stdout",
     "output_type": "stream",
     "text": [
      "(70000, 13)\n"
     ]
    }
   ],
   "source": [
    "# Print dimensions of the data\n",
    "print(data.shape)\n"
   ]
  },
  {
   "cell_type": "code",
   "execution_count": 3,
   "id": "27e67b92",
   "metadata": {},
   "outputs": [
    {
     "name": "stdout",
     "output_type": "stream",
     "text": [
      "Index(['id', 'age', 'gender', 'height', 'weight', 'ap_hi', 'ap_lo',\n",
      "       'cholesterol', 'gluc', 'smoke', 'alco', 'active', 'cardio'],\n",
      "      dtype='object')\n"
     ]
    }
   ],
   "source": [
    "print(data.columns)"
   ]
  },
  {
   "cell_type": "code",
   "execution_count": 4,
   "id": "0ead24f7",
   "metadata": {},
   "outputs": [
    {
     "name": "stdout",
     "output_type": "stream",
     "text": [
      "                 id           age        gender        height        weight  \\\n",
      "count  70000.000000  70000.000000  70000.000000  70000.000000  70000.000000   \n",
      "mean   49972.419900  19468.865814      1.349571    164.359229     74.205690   \n",
      "std    28851.302323   2467.251667      0.476838      8.210126     14.395757   \n",
      "min        0.000000  10798.000000      1.000000     55.000000     10.000000   \n",
      "25%    25006.750000  17664.000000      1.000000    159.000000     65.000000   \n",
      "50%    50001.500000  19703.000000      1.000000    165.000000     72.000000   \n",
      "75%    74889.250000  21327.000000      2.000000    170.000000     82.000000   \n",
      "max    99999.000000  23713.000000      2.000000    250.000000    200.000000   \n",
      "\n",
      "              ap_hi         ap_lo   cholesterol          gluc         smoke  \\\n",
      "count  70000.000000  70000.000000  70000.000000  70000.000000  70000.000000   \n",
      "mean     128.817286     96.630414      1.366871      1.226457      0.088129   \n",
      "std      154.011419    188.472530      0.680250      0.572270      0.283484   \n",
      "min     -150.000000    -70.000000      1.000000      1.000000      0.000000   \n",
      "25%      120.000000     80.000000      1.000000      1.000000      0.000000   \n",
      "50%      120.000000     80.000000      1.000000      1.000000      0.000000   \n",
      "75%      140.000000     90.000000      2.000000      1.000000      0.000000   \n",
      "max    16020.000000  11000.000000      3.000000      3.000000      1.000000   \n",
      "\n",
      "               alco        active        cardio  \n",
      "count  70000.000000  70000.000000  70000.000000  \n",
      "mean       0.053771      0.803729      0.499700  \n",
      "std        0.225568      0.397179      0.500003  \n",
      "min        0.000000      0.000000      0.000000  \n",
      "25%        0.000000      1.000000      0.000000  \n",
      "50%        0.000000      1.000000      0.000000  \n",
      "75%        0.000000      1.000000      1.000000  \n",
      "max        1.000000      1.000000      1.000000  \n"
     ]
    }
   ],
   "source": [
    "print(data.describe()) # Summary statictics"
   ]
  },
  {
   "cell_type": "code",
   "execution_count": 5,
   "id": "7bf2e69b",
   "metadata": {},
   "outputs": [
    {
     "name": "stdout",
     "output_type": "stream",
     "text": [
      "     age  gender  height  weight  ap_hi  ap_lo  cholesterol  gluc  smoke  \\\n",
      "0  18393       2     168    62.0    110     80            1     1      0   \n",
      "1  20228       1     156    85.0    140     90            3     1      0   \n",
      "2  18857       1     165    64.0    130     70            3     1      0   \n",
      "3  17623       2     169    82.0    150    100            1     1      0   \n",
      "4  17474       1     156    56.0    100     60            1     1      0   \n",
      "\n",
      "   alco  active  cardio  \n",
      "0     0       1       0  \n",
      "1     0       1       1  \n",
      "2     0       0       1  \n",
      "3     0       1       1  \n",
      "4     0       0       0  \n"
     ]
    }
   ],
   "source": [
    "data1 = data.iloc[:, 1:13]\n",
    "print(data1.head())\n"
   ]
  },
  {
   "cell_type": "code",
   "execution_count": 6,
   "id": "4b1e534d",
   "metadata": {},
   "outputs": [
    {
     "name": "stdout",
     "output_type": "stream",
     "text": [
      "     age  gender  height  weight  ap_hi  ap_lo  cholesterol  gluc  smoke  \\\n",
      "0  18393       2     168    62.0    110     80            1     1      0   \n",
      "1  20228       1     156    85.0    140     90            3     1      0   \n",
      "2  18857       1     165    64.0    130     70            3     1      0   \n",
      "3  17623       2     169    82.0    150    100            1     1      0   \n",
      "4  17474       1     156    56.0    100     60            1     1      0   \n",
      "\n",
      "   alco  active  cardio  \n",
      "0     0       1       0  \n",
      "1     0       1       1  \n",
      "2     0       0       1  \n",
      "3     0       1       1  \n",
      "4     0       0       0  \n",
      "                age        gender        height        weight         ap_hi  \\\n",
      "count  68764.000000  68764.000000  68764.000000  68764.000000  68764.000000   \n",
      "mean   19464.144581      1.348613    164.359752     74.113846    128.840440   \n",
      "std     2468.275317      0.476535      8.190652     14.330819    155.203641   \n",
      "min    10798.000000      1.000000     55.000000     11.000000     12.000000   \n",
      "25%    17657.000000      1.000000    159.000000     65.000000    120.000000   \n",
      "50%    19701.000000      1.000000    165.000000     72.000000    120.000000   \n",
      "75%    21324.000000      2.000000    170.000000     82.000000    140.000000   \n",
      "max    23713.000000      2.000000    250.000000    200.000000  16020.000000   \n",
      "\n",
      "              ap_lo   cholesterol          gluc         smoke          alco  \\\n",
      "count  68764.000000  68764.000000  68764.000000  68764.000000  68764.000000   \n",
      "mean      81.245230      1.364668      1.225583      0.087880      0.053342   \n",
      "std        9.693745      0.678883      0.571448      0.283123      0.224716   \n",
      "min      -70.000000      1.000000      1.000000      0.000000      0.000000   \n",
      "25%       80.000000      1.000000      1.000000      0.000000      0.000000   \n",
      "50%       80.000000      1.000000      1.000000      0.000000      0.000000   \n",
      "75%       90.000000      2.000000      1.000000      0.000000      0.000000   \n",
      "max      182.000000      3.000000      3.000000      1.000000      1.000000   \n",
      "\n",
      "             active        cardio  \n",
      "count  68764.000000  68764.000000  \n",
      "mean       0.803458      0.494765  \n",
      "std        0.397386      0.499976  \n",
      "min        0.000000      0.000000  \n",
      "25%        1.000000      0.000000  \n",
      "50%        1.000000      0.000000  \n",
      "75%        1.000000      1.000000  \n",
      "max        1.000000      1.000000  \n"
     ]
    }
   ],
   "source": [
    "# Filter the data to select rows where ap_hi is greater than ap_lo\n",
    "data1 = data1[data1['ap_hi'] > data1['ap_lo']]\n",
    "\n",
    "print(data1.head())\n",
    "\n",
    "# Print summary statistics of filtered data\n",
    "print(data1.describe())"
   ]
  },
  {
   "cell_type": "markdown",
   "id": "ca0231aa",
   "metadata": {},
   "source": [
    "# (ii) Data Preprocessing"
   ]
  },
  {
   "cell_type": "code",
   "execution_count": 7,
   "id": "67b1e5ba",
   "metadata": {},
   "outputs": [
    {
     "name": "stdout",
     "output_type": "stream",
     "text": [
      "     age  gender  height  weight  ap_hi  ap_lo  cholesterol  gluc  smoke  \\\n",
      "0  18393       2     168    62.0    110     80            1     1      0   \n",
      "1  20228       1     156    85.0    140     90            3     1      0   \n",
      "2  18857       1     165    64.0    130     70            3     1      0   \n",
      "3  17623       2     169    82.0    150    100            1     1      0   \n",
      "4  17474       1     156    56.0    100     60            1     1      0   \n",
      "\n",
      "   alco  active  cardio  \n",
      "0     0       1       0  \n",
      "1     0       1       1  \n",
      "2     0       0       1  \n",
      "3     0       1       1  \n",
      "4     0       0       0  \n"
     ]
    }
   ],
   "source": [
    "# Remove rows with missing values\n",
    "data1 = data1.dropna()\n",
    "\n",
    "# Filter the data to select rows where height is between 140 and 220, weight is greater than or equal to 30, ap_lo is between 30 and 170, and ap_hi is between 70 and 249\n",
    "data1 = data1[(data1['height'] >= 140) & (data1['height'] <= 220) & (data1['weight'] >= 30) & (data1['ap_lo'] >= 30) & (data1['ap_lo'] <= 170) & (data1['ap_hi'] >= 70) & (data1['ap_hi'] < 250)]\n",
    "\n",
    "# Print first few rows of the filtered data\n",
    "print(data1.head())\n",
    "\n"
   ]
  },
  {
   "cell_type": "code",
   "execution_count": 8,
   "id": "f135704d",
   "metadata": {},
   "outputs": [
    {
     "name": "stdout",
     "output_type": "stream",
     "text": [
      "                age        gender        height        weight         ap_hi  \\\n",
      "count  68521.000000  68521.000000  68521.000000  68521.000000  68521.000000   \n",
      "mean   19464.769910      1.348725    164.463814     74.119509    126.677179   \n",
      "std     2467.598213      0.476570      7.801033     14.279415     16.686006   \n",
      "min    10798.000000      1.000000    140.000000     30.000000     70.000000   \n",
      "25%    17658.000000      1.000000    159.000000     65.000000    120.000000   \n",
      "50%    19701.000000      1.000000    165.000000     72.000000    120.000000   \n",
      "75%    21324.000000      2.000000    170.000000     82.000000    140.000000   \n",
      "max    23713.000000      2.000000    207.000000    200.000000    240.000000   \n",
      "\n",
      "              ap_lo   cholesterol          gluc         smoke          alco  \\\n",
      "count  68521.000000  68521.000000  68521.000000  68521.000000  68521.000000   \n",
      "mean      81.304053      1.364866      1.225756      0.088017      0.053385   \n",
      "std        9.447325      0.679069      0.571619      0.283321      0.224802   \n",
      "min       30.000000      1.000000      1.000000      0.000000      0.000000   \n",
      "25%       80.000000      1.000000      1.000000      0.000000      0.000000   \n",
      "50%       80.000000      1.000000      1.000000      0.000000      0.000000   \n",
      "75%       90.000000      2.000000      1.000000      0.000000      0.000000   \n",
      "max      170.000000      3.000000      3.000000      1.000000      1.000000   \n",
      "\n",
      "             active        cardio  \n",
      "count  68521.000000  68521.000000  \n",
      "mean       0.803476      0.494768  \n",
      "std        0.397372      0.499976  \n",
      "min        0.000000      0.000000  \n",
      "25%        1.000000      0.000000  \n",
      "50%        1.000000      0.000000  \n",
      "75%        1.000000      1.000000  \n",
      "max        1.000000      1.000000  \n"
     ]
    }
   ],
   "source": [
    "# Print summary statistics of the filtered data\n",
    "print(data1.describe())\n"
   ]
  },
  {
   "cell_type": "code",
   "execution_count": 9,
   "id": "5a8aa3b7",
   "metadata": {},
   "outputs": [
    {
     "name": "stdout",
     "output_type": "stream",
     "text": [
      "(68521, 12)\n"
     ]
    }
   ],
   "source": [
    "# Print dimensions of the filtered data\n",
    "print(data1.shape)"
   ]
  },
  {
   "cell_type": "markdown",
   "id": "e286a670",
   "metadata": {},
   "source": [
    "# (iii) Plotting Graphs"
   ]
  },
  {
   "cell_type": "code",
   "execution_count": 10,
   "id": "425e76e1",
   "metadata": {},
   "outputs": [
    {
     "name": "stdout",
     "output_type": "stream",
     "text": [
      "                age        height        weight         ap_hi         ap_lo\n",
      "count  68521.000000  68521.000000  68521.000000  68521.000000  68521.000000\n",
      "mean   19464.769910    164.463814     74.119509    126.677179     81.304053\n",
      "std     2467.598213      7.801033     14.279415     16.686006      9.447325\n",
      "min    10798.000000    140.000000     30.000000     70.000000     30.000000\n",
      "25%    17658.000000    159.000000     65.000000    120.000000     80.000000\n",
      "50%    19701.000000    165.000000     72.000000    120.000000     80.000000\n",
      "75%    21324.000000    170.000000     82.000000    140.000000     90.000000\n",
      "max    23713.000000    207.000000    200.000000    240.000000    170.000000\n"
     ]
    }
   ],
   "source": [
    "# Filter the data to select rows where height is between 140 and 220, weight is greater than or equal to 30, ap_lo is between 30 and 170, and ap_hi is between 70 and 249\n",
    "data2 = data1[(data1['height'] >= 140) & (data1['height'] <= 220) & \n",
    "              (data1['weight'] >= 30) & (data1['ap_lo'] >= 30) &\n",
    "              (data1['ap_lo'] <= 170) & (data1['ap_hi'] >= 70) & (data1['ap_hi'] < 250)]\n",
    "\n",
    "# Convert selected columns to factor type\n",
    "cols = [\"gender\", \"cholesterol\", \"gluc\", \"smoke\", \"alco\", \"active\", \"cardio\"]\n",
    "data2[cols] = data2[cols].astype('category')\n",
    "\n",
    "# Print summary statistics of the filtered data\n",
    "print(data2.describe())\n"
   ]
  },
  {
   "cell_type": "code",
   "execution_count": 11,
   "id": "a0447f23",
   "metadata": {},
   "outputs": [
    {
     "name": "stdout",
     "output_type": "stream",
     "text": [
      "                age        height        weight        ap_hi         ap_lo\n",
      "count  47966.000000  47966.000000  47966.000000  47966.00000  47966.000000\n",
      "mean   19460.863174    164.428199     74.064370    126.67356     81.312701\n",
      "std     2465.467500      7.798318     14.254366     16.75778      9.444616\n",
      "min    10798.000000    140.000000     30.000000     70.00000     30.000000\n",
      "25%    17658.000000    159.000000     65.000000    120.00000     80.000000\n",
      "50%    19697.000000    165.000000     72.000000    120.00000     80.000000\n",
      "75%    21317.000000    170.000000     82.000000    140.00000     90.000000\n",
      "max    23701.000000    207.000000    200.000000    240.00000    170.000000\n"
     ]
    }
   ],
   "source": [
    "# Split the data into train, test, and validation sets\n",
    "idx = np.random.choice(np.arange(1, 4), size=data2.shape[0], replace=True, p=[0.7, 0.15, 0.15])\n",
    "train = data2[idx == 1]\n",
    "test = data2[idx == 2]\n",
    "valid = data2[idx == 3]\n",
    "\n",
    "# Print summary statistics of the train data\n",
    "print(train.describe())"
   ]
  },
  {
   "cell_type": "code",
   "execution_count": 12,
   "id": "dea3866c",
   "metadata": {},
   "outputs": [
    {
     "name": "stdout",
     "output_type": "stream",
     "text": [
      "(47966, 12)\n",
      "(10321, 12)\n",
      "(10234, 12)\n"
     ]
    }
   ],
   "source": [
    "# Print dimensions of the train, test, and validation sets\n",
    "print(train.shape)\n",
    "print(test.shape)\n",
    "print(valid.shape)\n",
    "\n"
   ]
  },
  {
   "cell_type": "code",
   "execution_count": 13,
   "id": "a4fb2a63",
   "metadata": {},
   "outputs": [
    {
     "data": {
      "image/png": "[encoded data removed]",
      "text/plain": [
       "<Figure size 640x480 with 1 Axes>"
      ]
     },
     "metadata": {},
     "output_type": "display_data"
    },
    {
     "data": {
      "text/plain": [
       "<ggplot: (180295767498)>"
      ]
     },
     "execution_count": 13,
     "metadata": {},
     "output_type": "execute_result"
    }
   ],
   "source": [
    "# Create a density plot of age\n",
    "ggplot(train, aes(x='age')) + geom_density()\n"
   ]
  },
  {
   "cell_type": "code",
   "execution_count": 14,
   "id": "ad3c2a10",
   "metadata": {},
   "outputs": [
    {
     "data": {
      "image/png": "[encoded data removed]",
      "text/plain": [
       "<Figure size 640x480 with 1 Axes>"
      ]
     },
     "metadata": {},
     "output_type": "display_data"
    },
    {
     "data": {
      "text/plain": [
       "<ggplot: (180296611057)>"
      ]
     },
     "execution_count": 14,
     "metadata": {},
     "output_type": "execute_result"
    }
   ],
   "source": [
    "\n",
    "# Create a histogram and density plot of height\n",
    "ggplot(train, aes(x='height')) + geom_histogram(aes(y='..density..'), binwidth=.5, colour=\"black\", fill=\"white\") +geom_density(alpha=.2, fill=\"#FF6666\")"
   ]
  },
  {
   "cell_type": "code",
   "execution_count": 15,
   "id": "3d8b58b1",
   "metadata": {},
   "outputs": [
    {
     "data": {
      "image/png": "[encoded data removed]",
      "text/plain": [
       "<Figure size 640x480 with 1 Axes>"
      ]
     },
     "metadata": {},
     "output_type": "display_data"
    },
    {
     "data": {
      "text/plain": [
       "<ggplot: (180296143002)>"
      ]
     },
     "execution_count": 15,
     "metadata": {},
     "output_type": "execute_result"
    }
   ],
   "source": [
    "# Create a histogram and density plot of weight\n",
    "ggplot(train, aes(x='weight')) + geom_histogram(aes(y='..density..'), binwidth=.5, colour=\"black\", fill=\"white\") + geom_density(alpha=.2, fill=\"#FF6666\")"
   ]
  },
  {
   "cell_type": "code",
   "execution_count": 16,
   "id": "0f0abe0e",
   "metadata": {},
   "outputs": [
    {
     "name": "stdout",
     "output_type": "stream",
     "text": [
      "             age    height    weight     ap_hi     ap_lo\n",
      "age     1.000000 -0.085787  0.056290  0.211858  0.156537\n",
      "height -0.085787  1.000000  0.313130  0.020463  0.036477\n",
      "weight  0.056290  0.313130  1.000000  0.269448  0.254460\n",
      "ap_hi   0.211858  0.020463  0.269448  1.000000  0.733550\n",
      "ap_lo   0.156537  0.036477  0.254460  0.733550  1.000000\n"
     ]
    }
   ],
   "source": [
    "# Calculate the correlation matrix of selected variables in the train data\n",
    "train_corr = train.iloc[:, [0, 2, 3, 4, 5]].corr()\n",
    "print(train_corr)\n",
    "\n"
   ]
  },
  {
   "cell_type": "code",
   "execution_count": 17,
   "id": "86f0dfee",
   "metadata": {},
   "outputs": [
    {
     "data": {
      "text/plain": [
       "<AxesSubplot:>"
      ]
     },
     "execution_count": 17,
     "metadata": {},
     "output_type": "execute_result"
    }
   ],
   "source": [
    "sns.heatmap(train_corr, annot=True, cmap='coolwarm')"
   ]
  },
  {
   "cell_type": "code",
   "execution_count": 18,
   "id": "95d45df3",
   "metadata": {},
   "outputs": [
    {
     "name": "stdout",
     "output_type": "stream",
     "text": [
      "Ttest_indResult(statistic=-18.293442295632968, pvalue=1.806492383682099e-74)\n",
      "PearsonRResult(statistic=0.3131303026236506, pvalue=0.0)\n"
     ]
    }
   ],
   "source": [
    "weight_chol_test = stats.ttest_ind(train[train['cholesterol'] == 1]['weight'], train[train['cholesterol'] == 2]['weight'], equal_var=True)\n",
    "print(weight_chol_test)\n",
    "\n",
    "\n",
    "sns.boxplot(data=train, x='cholesterol', y='weight')\n",
    "\n",
    "height_weight_corr = stats.pearsonr(train['height'], train['weight'])\n",
    "print(height_weight_corr)"
   ]
  },
  {
   "cell_type": "code",
   "execution_count": 19,
   "id": "3adedd7e",
   "metadata": {},
   "outputs": [
    {
     "name": "stdout",
     "output_type": "stream",
     "text": [
      "5543.260704986586 0.0\n"
     ]
    },
    {
     "name": "stderr",
     "output_type": "stream",
     "text": [
      "C:\\Users\\laxmi\\AppData\\Local\\Temp\\ipykernel_7084\\686492678.py:5: SettingWithCopyWarning: \n",
      "A value is trying to be set on a copy of a slice from a DataFrame.\n",
      "Try using .loc[row_indexer,col_indexer] = value instead\n",
      "\n",
      "See the caveats in the documentation: https://pandas.pydata.org/pandas-docs/stable/user_guide/indexing.html#returning-a-view-versus-a-copy\n",
      "C:\\Users\\laxmi\\AppData\\Local\\Temp\\ipykernel_7084\\686492678.py:6: SettingWithCopyWarning: \n",
      "A value is trying to be set on a copy of a slice from a DataFrame.\n",
      "Try using .loc[row_indexer,col_indexer] = value instead\n",
      "\n",
      "See the caveats in the documentation: https://pandas.pydata.org/pandas-docs/stable/user_guide/indexing.html#returning-a-view-versus-a-copy\n",
      "C:\\Users\\laxmi\\AppData\\Local\\Temp\\ipykernel_7084\\686492678.py:7: SettingWithCopyWarning: \n",
      "A value is trying to be set on a copy of a slice from a DataFrame.\n",
      "Try using .loc[row_indexer,col_indexer] = value instead\n",
      "\n",
      "See the caveats in the documentation: https://pandas.pydata.org/pandas-docs/stable/user_guide/indexing.html#returning-a-view-versus-a-copy\n"
     ]
    },
    {
     "data": {
      "text/html": [
       "<div>\n",
       "<style scoped>\n",
       "    .dataframe tbody tr th:only-of-type {\n",
       "        vertical-align: middle;\n",
       "    }\n",
       "\n",
       "    .dataframe tbody tr th {\n",
       "        vertical-align: top;\n",
       "    }\n",
       "\n",
       "    .dataframe thead th {\n",
       "        text-align: right;\n",
       "    }\n",
       "</style>\n",
       "<table border=\"1\" class=\"dataframe\">\n",
       "  <thead>\n",
       "    <tr style=\"text-align: right;\">\n",
       "      <th></th>\n",
       "      <th>age</th>\n",
       "      <th>height</th>\n",
       "      <th>weight</th>\n",
       "      <th>ap_hi</th>\n",
       "      <th>ap_lo</th>\n",
       "    </tr>\n",
       "  </thead>\n",
       "  <tbody>\n",
       "    <tr>\n",
       "      <th>count</th>\n",
       "      <td>47966.000000</td>\n",
       "      <td>47966.000000</td>\n",
       "      <td>47966.000000</td>\n",
       "      <td>47966.00000</td>\n",
       "      <td>47966.000000</td>\n",
       "    </tr>\n",
       "    <tr>\n",
       "      <th>mean</th>\n",
       "      <td>53.317433</td>\n",
       "      <td>164.428199</td>\n",
       "      <td>74.064370</td>\n",
       "      <td>126.67356</td>\n",
       "      <td>81.312701</td>\n",
       "    </tr>\n",
       "    <tr>\n",
       "      <th>std</th>\n",
       "      <td>6.754705</td>\n",
       "      <td>7.798318</td>\n",
       "      <td>14.254366</td>\n",
       "      <td>16.75778</td>\n",
       "      <td>9.444616</td>\n",
       "    </tr>\n",
       "    <tr>\n",
       "      <th>min</th>\n",
       "      <td>29.583562</td>\n",
       "      <td>140.000000</td>\n",
       "      <td>30.000000</td>\n",
       "      <td>70.00000</td>\n",
       "      <td>30.000000</td>\n",
       "    </tr>\n",
       "    <tr>\n",
       "      <th>25%</th>\n",
       "      <td>48.378082</td>\n",
       "      <td>159.000000</td>\n",
       "      <td>65.000000</td>\n",
       "      <td>120.00000</td>\n",
       "      <td>80.000000</td>\n",
       "    </tr>\n",
       "    <tr>\n",
       "      <th>50%</th>\n",
       "      <td>53.964384</td>\n",
       "      <td>165.000000</td>\n",
       "      <td>72.000000</td>\n",
       "      <td>120.00000</td>\n",
       "      <td>80.000000</td>\n",
       "    </tr>\n",
       "    <tr>\n",
       "      <th>75%</th>\n",
       "      <td>58.402740</td>\n",
       "      <td>170.000000</td>\n",
       "      <td>82.000000</td>\n",
       "      <td>140.00000</td>\n",
       "      <td>90.000000</td>\n",
       "    </tr>\n",
       "    <tr>\n",
       "      <th>max</th>\n",
       "      <td>64.934247</td>\n",
       "      <td>207.000000</td>\n",
       "      <td>200.000000</td>\n",
       "      <td>240.00000</td>\n",
       "      <td>170.000000</td>\n",
       "    </tr>\n",
       "  </tbody>\n",
       "</table>\n",
       "</div>"
      ],
      "text/plain": [
       "                age        height        weight        ap_hi         ap_lo\n",
       "count  47966.000000  47966.000000  47966.000000  47966.00000  47966.000000\n",
       "mean      53.317433    164.428199     74.064370    126.67356     81.312701\n",
       "std        6.754705      7.798318     14.254366     16.75778      9.444616\n",
       "min       29.583562    140.000000     30.000000     70.00000     30.000000\n",
       "25%       48.378082    159.000000     65.000000    120.00000     80.000000\n",
       "50%       53.964384    165.000000     72.000000    120.00000     80.000000\n",
       "75%       58.402740    170.000000     82.000000    140.00000     90.000000\n",
       "max       64.934247    207.000000    200.000000    240.00000    170.000000"
      ]
     },
     "execution_count": 19,
     "metadata": {},
     "output_type": "execute_result"
    }
   ],
   "source": [
    "\n",
    "gender_smoke_table = pd.crosstab(train['gender'], train['smoke'])\n",
    "gender_smoke_chi2, gender_smoke_p, gender_smoke_dof, gender_smoke_expected = stats.chi2_contingency(gender_smoke_table, correction=False)\n",
    "print(gender_smoke_chi2, gender_smoke_p)\n",
    "\n",
    "train['age'] = train['age'] / 365\n",
    "test['age'] = test['age'] / 365\n",
    "valid['age'] = valid['age'] / 365\n",
    "\n",
    "train.describe()"
   ]
  },
  {
   "cell_type": "code",
   "execution_count": 20,
   "id": "3b1ef213",
   "metadata": {},
   "outputs": [
    {
     "data": {
      "image/png": "[encoded data removed]",
      "text/plain": [
       "<Figure size 640x480 with 2 Axes>"
      ]
     },
     "metadata": {},
     "output_type": "display_data"
    },
    {
     "data": {
      "image/png": "[encoded data removed]",
      "text/plain": [
       "<Figure size 640x480 with 1 Axes>"
      ]
     },
     "metadata": {},
     "output_type": "display_data"
    },
    {
     "data": {
      "text/plain": [
       "<ggplot: (180296152468)>"
      ]
     },
     "execution_count": 20,
     "metadata": {},
     "output_type": "execute_result"
    }
   ],
   "source": [
    "# Create a boxplot to visualize the distribution of weight across levels of cholesterol\n",
    "ggplot(train, aes(x='cholesterol', y='weight')) + geom_boxplot()\n"
   ]
  },
  {
   "cell_type": "markdown",
   "id": "01382fa9",
   "metadata": {},
   "source": [
    "# (iv)Creating BMI row to analyze with Body mass index instead of using weight and height plainly"
   ]
  },
  {
   "cell_type": "code",
   "execution_count": 21,
   "id": "a5881a86",
   "metadata": {},
   "outputs": [
    {
     "name": "stderr",
     "output_type": "stream",
     "text": [
      "C:\\Users\\laxmi\\AppData\\Local\\Temp\\ipykernel_7084\\1395030687.py:1: SettingWithCopyWarning: \n",
      "A value is trying to be set on a copy of a slice from a DataFrame.\n",
      "Try using .loc[row_indexer,col_indexer] = value instead\n",
      "\n",
      "See the caveats in the documentation: https://pandas.pydata.org/pandas-docs/stable/user_guide/indexing.html#returning-a-view-versus-a-copy\n",
      "C:\\Users\\laxmi\\AppData\\Local\\Temp\\ipykernel_7084\\1395030687.py:2: SettingWithCopyWarning: \n",
      "A value is trying to be set on a copy of a slice from a DataFrame.\n",
      "Try using .loc[row_indexer,col_indexer] = value instead\n",
      "\n",
      "See the caveats in the documentation: https://pandas.pydata.org/pandas-docs/stable/user_guide/indexing.html#returning-a-view-versus-a-copy\n",
      "C:\\Users\\laxmi\\AppData\\Local\\Temp\\ipykernel_7084\\1395030687.py:4: SettingWithCopyWarning: \n",
      "A value is trying to be set on a copy of a slice from a DataFrame.\n",
      "Try using .loc[row_indexer,col_indexer] = value instead\n",
      "\n",
      "See the caveats in the documentation: https://pandas.pydata.org/pandas-docs/stable/user_guide/indexing.html#returning-a-view-versus-a-copy\n",
      "C:\\Users\\laxmi\\AppData\\Local\\Temp\\ipykernel_7084\\1395030687.py:5: SettingWithCopyWarning: \n",
      "A value is trying to be set on a copy of a slice from a DataFrame.\n",
      "Try using .loc[row_indexer,col_indexer] = value instead\n",
      "\n",
      "See the caveats in the documentation: https://pandas.pydata.org/pandas-docs/stable/user_guide/indexing.html#returning-a-view-versus-a-copy\n",
      "C:\\Users\\laxmi\\AppData\\Local\\Temp\\ipykernel_7084\\1395030687.py:7: SettingWithCopyWarning: \n",
      "A value is trying to be set on a copy of a slice from a DataFrame.\n",
      "Try using .loc[row_indexer,col_indexer] = value instead\n",
      "\n",
      "See the caveats in the documentation: https://pandas.pydata.org/pandas-docs/stable/user_guide/indexing.html#returning-a-view-versus-a-copy\n",
      "C:\\Users\\laxmi\\AppData\\Local\\Temp\\ipykernel_7084\\1395030687.py:8: SettingWithCopyWarning: \n",
      "A value is trying to be set on a copy of a slice from a DataFrame.\n",
      "Try using .loc[row_indexer,col_indexer] = value instead\n",
      "\n",
      "See the caveats in the documentation: https://pandas.pydata.org/pandas-docs/stable/user_guide/indexing.html#returning-a-view-versus-a-copy\n"
     ]
    }
   ],
   "source": [
    "train['BMI'] = None\n",
    "train['BMI'] = train['weight'] / ((train['height'] / 100) ** 2)\n",
    "\n",
    "test['BMI'] = None\n",
    "test['BMI'] = test['weight'] / ((test['height'] / 100) ** 2)\n",
    "\n",
    "valid['BMI'] = None\n",
    "valid['BMI'] = valid['weight'] / ((valid['height'] / 100) ** 2)\n"
   ]
  },
  {
   "cell_type": "markdown",
   "id": "32e7778c",
   "metadata": {},
   "source": [
    "# LINEAR REGRESSION"
   ]
  },
  {
   "cell_type": "code",
   "execution_count": 22,
   "id": "3f53a8fd",
   "metadata": {},
   "outputs": [
    {
     "name": "stdout",
     "output_type": "stream",
     "text": [
      "                     Generalized Linear Model Regression Results                      \n",
      "======================================================================================\n",
      "Dep. Variable:     ['cardio[0]', 'cardio[1]']   No. Observations:                47966\n",
      "Model:                                    GLM   Df Residuals:                    47951\n",
      "Model Family:                        Binomial   Df Model:                           14\n",
      "Link Function:                          Logit   Scale:                          1.0000\n",
      "Method:                                  IRLS   Log-Likelihood:                -26829.\n",
      "Date:                        Wed, 12 Apr 2023   Deviance:                       53657.\n",
      "Time:                                13:18:10   Pearson chi2:                 5.56e+04\n",
      "No. Iterations:                             5   Pseudo R-squ. (CS):             0.2347\n",
      "Covariance Type:                    nonrobust                                         \n",
      "==========================================================================================\n",
      "                             coef    std err          z      P>|z|      [0.025      0.975]\n",
      "------------------------------------------------------------------------------------------\n",
      "Intercept                 12.5581      0.774     16.227      0.000      11.041      14.075\n",
      "gender[T.2]               -0.0506      0.024     -2.102      0.036      -0.098      -0.003\n",
      "cholesterol[T.2]          -0.3986      0.033    -12.172      0.000      -0.463      -0.334\n",
      "cholesterol[T.3]          -1.0914      0.043    -25.464      0.000      -1.175      -1.007\n",
      "gluc[T.2]                 -0.0444      0.043     -1.031      0.303      -0.129       0.040\n",
      "gluc[T.3]                  0.3684      0.048      7.749      0.000       0.275       0.462\n",
      "smoke[T.1]                 0.0412      0.104      0.397      0.691      -0.162       0.245\n",
      "alco[T.1]                  0.2722      0.051      5.321      0.000       0.172       0.372\n",
      "active[T.1]                0.2263      0.026      8.604      0.000       0.175       0.278\n",
      "gender[T.2]:smoke[T.1]     0.0879      0.112      0.786      0.432      -0.131       0.307\n",
      "age                       -0.0509      0.002    -31.359      0.000      -0.054      -0.048\n",
      "BMI                       -0.0274      0.002    -12.494      0.000      -0.032      -0.023\n",
      "ap_hi                     -0.0646      0.006    -10.489      0.000      -0.077      -0.053\n",
      "ap_lo                     -0.0254      0.009     -2.689      0.007      -0.044      -0.007\n",
      "ap_hi:ap_lo                0.0001    7.3e-05      1.442      0.149   -3.78e-05       0.000\n",
      "==========================================================================================\n"
     ]
    }
   ],
   "source": [
    "import statsmodels.api as sm\n",
    "import pandas as pd\n",
    "from sklearn.model_selection import train_test_split\n",
    "from sklearn.linear_model import LogisticRegression\n",
    "from sklearn import metrics\n",
    "\n",
    "# fit logistic regression model\n",
    "model = sm.formula.glm(formula='cardio~age+ gender + BMI + ap_hi + ap_lo + cholesterol + gluc + smoke + alco + active + (ap_hi*ap_lo) + (gender*smoke)', data=train, family=sm.families.Binomial()).fit()\n",
    "\n",
    "# print summary of model\n",
    "print(model.summary())\n"
   ]
  },
  {
   "cell_type": "code",
   "execution_count": 23,
   "id": "5b446637",
   "metadata": {},
   "outputs": [
    {
     "name": "stdout",
     "output_type": "stream",
     "text": [
      "cardio      0      1\n",
      "pred                \n",
      "No       5136  15871\n",
      "Yes     19090   7869\n"
     ]
    },
    {
     "name": "stderr",
     "output_type": "stream",
     "text": [
      "C:\\Users\\laxmi\\AppData\\Local\\Temp\\ipykernel_7084\\2517348953.py:2: SettingWithCopyWarning: \n",
      "A value is trying to be set on a copy of a slice from a DataFrame.\n",
      "Try using .loc[row_indexer,col_indexer] = value instead\n",
      "\n",
      "See the caveats in the documentation: https://pandas.pydata.org/pandas-docs/stable/user_guide/indexing.html#returning-a-view-versus-a-copy\n",
      "C:\\Users\\laxmi\\AppData\\Local\\Temp\\ipykernel_7084\\2517348953.py:5: SettingWithCopyWarning: \n",
      "A value is trying to be set on a copy of a slice from a DataFrame.\n",
      "Try using .loc[row_indexer,col_indexer] = value instead\n",
      "\n",
      "See the caveats in the documentation: https://pandas.pydata.org/pandas-docs/stable/user_guide/indexing.html#returning-a-view-versus-a-copy\n"
     ]
    }
   ],
   "source": [
    "# add predicted probabilities to train data\n",
    "train['prob'] = model.predict(train)\n",
    "\n",
    "# add predicted class to train data\n",
    "train['pred'] = ['Yes' if x >= 0.50 else 'No' for x in train['prob']]\n",
    "\n",
    "# print confusion matrix\n",
    "print(pd.crosstab(train['pred'], train['cardio']))\n",
    "#print(accuracy_score(train['pred'], train['cardio']))"
   ]
  },
  {
   "cell_type": "markdown",
   "id": "24ec36db",
   "metadata": {},
   "source": [
    "# Logistic Regression"
   ]
  },
  {
   "cell_type": "code",
   "execution_count": 24,
   "id": "17814dc7",
   "metadata": {},
   "outputs": [
    {
     "name": "stdout",
     "output_type": "stream",
     "text": [
      "[0.72878883 0.72170106 0.72545341 0.73400042 0.73608505 0.7329581\n",
      " 0.71455379 0.72998332 0.72456214 0.72789825]\n",
      "CV accuracy: 0.7275984364706674\n"
     ]
    }
   ],
   "source": [
    "import pandas as pd\n",
    "import numpy as np\n",
    "from sklearn.model_selection import train_test_split\n",
    "from sklearn.linear_model import LogisticRegression\n",
    "from sklearn.metrics import confusion_matrix\n",
    "from sklearn.model_selection import cross_val_score\n",
    "from sklearn.model_selection import KFold\n",
    "\n",
    "\n",
    "fit_control = KFold(n_splits=10, shuffle=True, random_state=8)\n",
    "train = train.dropna()\n",
    "X = train.drop(['cardio', 'pred', 'prob'], axis=1)\n",
    "y = train['cardio']\n",
    "model_lr = LogisticRegression(fit_intercept=True, solver='liblinear', random_state=8)\n",
    "scores = cross_val_score(model_lr, X, y, cv=fit_control, scoring='accuracy')\n",
    "print(scores)\n",
    "print('CV accuracy:', np.mean(scores))\n"
   ]
  },
  {
   "cell_type": "code",
   "execution_count": 25,
   "id": "b5093826",
   "metadata": {},
   "outputs": [
    {
     "name": "stdout",
     "output_type": "stream",
     "text": [
      "[[ 0.05100634  0.02127689 -0.06210097  0.07112485  0.05562856  0.01155134\n",
      "   0.49988885 -0.13117959 -0.12220344 -0.27397018 -0.23061967 -0.16056343]]\n"
     ]
    }
   ],
   "source": [
    "model_lr.fit(X, y)\n",
    "print(model_lr.coef_)"
   ]
  },
  {
   "cell_type": "code",
   "execution_count": 26,
   "id": "69a18db9",
   "metadata": {},
   "outputs": [
    {
     "name": "stdout",
     "output_type": "stream",
     "text": [
      "[-1.66816306]\n"
     ]
    }
   ],
   "source": [
    "print(model_lr.intercept_)\n"
   ]
  },
  {
   "cell_type": "code",
   "execution_count": 27,
   "id": "92fb2ae4",
   "metadata": {},
   "outputs": [
    {
     "name": "stdout",
     "output_type": "stream",
     "text": [
      "Index(['age', 'gender', 'height', 'weight', 'ap_hi', 'ap_lo', 'cholesterol',\n",
      "       'gluc', 'smoke', 'alco', 'active', 'BMI'],\n",
      "      dtype='object')\n"
     ]
    }
   ],
   "source": [
    "print(X.columns)\n"
   ]
  },
  {
   "cell_type": "code",
   "execution_count": 28,
   "id": "b1f64bc1",
   "metadata": {},
   "outputs": [
    {
     "name": "stdout",
     "output_type": "stream",
     "text": [
      "         age gender  height  weight  ap_hi  ap_lo cholesterol gluc smoke alco  \\\n",
      "0  50.391781      2     168    62.0    110     80           1    1     0    0   \n",
      "1  55.419178      1     156    85.0    140     90           3    1     0    0   \n",
      "2  51.663014      1     165    64.0    130     70           3    1     0    0   \n",
      "8  48.405479      1     158    71.0    110     70           1    1     0    0   \n",
      "9  54.339726      1     164    68.0    110     60           1    1     0    0   \n",
      "\n",
      "  active cardio        BMI      prob pred  \n",
      "0      1      0  21.967120  0.794778  Yes  \n",
      "1      1      1  34.927679  0.110015   No  \n",
      "2      0      1  23.507805  0.263683   No  \n",
      "8      1      0  28.440955  0.812461  Yes  \n",
      "9      0      0  25.282570  0.761767  Yes  \n"
     ]
    }
   ],
   "source": [
    "print(train.head())"
   ]
  },
  {
   "cell_type": "markdown",
   "id": "577c629f",
   "metadata": {},
   "source": [
    "# PROBABILITY TESTING"
   ]
  },
  {
   "cell_type": "code",
   "execution_count": 29,
   "id": "f4f4d557",
   "metadata": {},
   "outputs": [
    {
     "name": "stdout",
     "output_type": "stream",
     "text": [
      "cardio     0     1\n",
      "pred              \n",
      "No      1091  3440\n",
      "Yes     4063  1727\n"
     ]
    },
    {
     "name": "stderr",
     "output_type": "stream",
     "text": [
      "C:\\Users\\laxmi\\AppData\\Local\\Temp\\ipykernel_7084\\3183840316.py:1: SettingWithCopyWarning: \n",
      "A value is trying to be set on a copy of a slice from a DataFrame.\n",
      "Try using .loc[row_indexer,col_indexer] = value instead\n",
      "\n",
      "See the caveats in the documentation: https://pandas.pydata.org/pandas-docs/stable/user_guide/indexing.html#returning-a-view-versus-a-copy\n",
      "C:\\Users\\laxmi\\AppData\\Local\\Temp\\ipykernel_7084\\3183840316.py:2: SettingWithCopyWarning: \n",
      "A value is trying to be set on a copy of a slice from a DataFrame.\n",
      "Try using .loc[row_indexer,col_indexer] = value instead\n",
      "\n",
      "See the caveats in the documentation: https://pandas.pydata.org/pandas-docs/stable/user_guide/indexing.html#returning-a-view-versus-a-copy\n"
     ]
    }
   ],
   "source": [
    "test['prob'] = model.predict(test)\n",
    "test['pred'] = np.where(test['prob'] >= 0.50, 'Yes', 'No')\n",
    "table = pd.crosstab(test['pred'], test['cardio'])\n",
    "print(table)"
   ]
  },
  {
   "cell_type": "markdown",
   "id": "115129a7",
   "metadata": {},
   "source": [
    "# NAVIE BAYES"
   ]
  },
  {
   "cell_type": "code",
   "execution_count": 30,
   "id": "f7580e9d",
   "metadata": {},
   "outputs": [
    {
     "name": "stderr",
     "output_type": "stream",
     "text": [
      "C:\\Users\\laxmi\\anaconda3\\lib\\site-packages\\sklearn\\base.py:493: FutureWarning: The feature names should match those that were passed during fit. Starting version 1.2, an error will be raised.\n",
      "Feature names unseen at fit time:\n",
      "- cardio\n",
      "Feature names seen at fit time, yet now missing:\n",
      "- BMI\n",
      "\n"
     ]
    },
    {
     "name": "stdout",
     "output_type": "stream",
     "text": [
      "[[2979 1118]\n",
      " [2175 4049]]\n"
     ]
    }
   ],
   "source": [
    "from sklearn.naive_bayes import GaussianNB\n",
    "\n",
    "NB = GaussianNB()\n",
    "NB.fit(X, y)\n",
    "\n",
    "train_predict = NB.predict(test.iloc[:, :-3])\n",
    "cm = confusion_matrix(train_predict, test['cardio'])\n",
    "print(cm)\n"
   ]
  },
  {
   "cell_type": "markdown",
   "id": "5067259d",
   "metadata": {},
   "source": [
    "# RANDOM FOREST"
   ]
  },
  {
   "cell_type": "code",
   "execution_count": 31,
   "id": "a44050cb",
   "metadata": {},
   "outputs": [
    {
     "name": "stdout",
     "output_type": "stream",
     "text": [
      "[[35021     0]\n",
      " [    2 34977]]\n"
     ]
    }
   ],
   "source": [
    "from sklearn.ensemble import RandomForestClassifier\n",
    "from sklearn.metrics import confusion_matrix\n",
    "import pandas as pd\n",
    "\n",
    "\n",
    "# one-hot encoding of categorical variables\n",
    "train = pd.get_dummies(data, columns=['gender', 'cholesterol', 'gluc', 'smoke', 'alco', 'active'])\n",
    "test = pd.get_dummies(data, columns=['gender', 'cholesterol', 'gluc', 'smoke', 'alco', 'active'])\n",
    "\n",
    "X_train = train.drop(['cardio'], axis=1)\n",
    "y_train = train['cardio']\n",
    "X_test = test.drop(['cardio'], axis=1)\n",
    "y_test = test['cardio']\n",
    "\n",
    "random_f = RandomForestClassifier(random_state=100)\n",
    "random_f.fit(X_train, y_train)\n",
    "\n",
    "a = random_f.predict(X_test)\n",
    "cf = confusion_matrix(y_test, a)\n",
    "print(cf)\n",
    "\n"
   ]
  },
  {
   "cell_type": "code",
   "execution_count": 32,
   "id": "59256062",
   "metadata": {},
   "outputs": [
    {
     "name": "stdout",
     "output_type": "stream",
     "text": [
      "0.9999714285714286\n"
     ]
    }
   ],
   "source": [
    "print(accuracy_score(y_train, a))"
   ]
  },
  {
   "cell_type": "markdown",
   "id": "3f8c7754",
   "metadata": {},
   "source": [
    "# Decision Tree"
   ]
  },
  {
   "cell_type": "code",
   "execution_count": 33,
   "id": "0e616fe0",
   "metadata": {},
   "outputs": [
    {
     "data": {
      "text/html": [
       "<div>\n",
       "<style scoped>\n",
       "    .dataframe tbody tr th:only-of-type {\n",
       "        vertical-align: middle;\n",
       "    }\n",
       "\n",
       "    .dataframe tbody tr th {\n",
       "        vertical-align: top;\n",
       "    }\n",
       "\n",
       "    .dataframe thead th {\n",
       "        text-align: right;\n",
       "    }\n",
       "</style>\n",
       "<table border=\"1\" class=\"dataframe\">\n",
       "  <thead>\n",
       "    <tr style=\"text-align: right;\">\n",
       "      <th></th>\n",
       "      <th>id</th>\n",
       "      <th>age</th>\n",
       "      <th>gender</th>\n",
       "      <th>height</th>\n",
       "      <th>weight</th>\n",
       "      <th>ap_hi</th>\n",
       "      <th>ap_lo</th>\n",
       "      <th>cholesterol</th>\n",
       "      <th>gluc</th>\n",
       "      <th>smoke</th>\n",
       "      <th>alco</th>\n",
       "      <th>active</th>\n",
       "      <th>cardio</th>\n",
       "    </tr>\n",
       "  </thead>\n",
       "  <tbody>\n",
       "    <tr>\n",
       "      <th>0</th>\n",
       "      <td>0</td>\n",
       "      <td>18393</td>\n",
       "      <td>2</td>\n",
       "      <td>168</td>\n",
       "      <td>62.0</td>\n",
       "      <td>110</td>\n",
       "      <td>80</td>\n",
       "      <td>1</td>\n",
       "      <td>1</td>\n",
       "      <td>0</td>\n",
       "      <td>0</td>\n",
       "      <td>1</td>\n",
       "      <td>0</td>\n",
       "    </tr>\n",
       "    <tr>\n",
       "      <th>1</th>\n",
       "      <td>1</td>\n",
       "      <td>20228</td>\n",
       "      <td>1</td>\n",
       "      <td>156</td>\n",
       "      <td>85.0</td>\n",
       "      <td>140</td>\n",
       "      <td>90</td>\n",
       "      <td>3</td>\n",
       "      <td>1</td>\n",
       "      <td>0</td>\n",
       "      <td>0</td>\n",
       "      <td>1</td>\n",
       "      <td>1</td>\n",
       "    </tr>\n",
       "    <tr>\n",
       "      <th>2</th>\n",
       "      <td>2</td>\n",
       "      <td>18857</td>\n",
       "      <td>1</td>\n",
       "      <td>165</td>\n",
       "      <td>64.0</td>\n",
       "      <td>130</td>\n",
       "      <td>70</td>\n",
       "      <td>3</td>\n",
       "      <td>1</td>\n",
       "      <td>0</td>\n",
       "      <td>0</td>\n",
       "      <td>0</td>\n",
       "      <td>1</td>\n",
       "    </tr>\n",
       "    <tr>\n",
       "      <th>3</th>\n",
       "      <td>3</td>\n",
       "      <td>17623</td>\n",
       "      <td>2</td>\n",
       "      <td>169</td>\n",
       "      <td>82.0</td>\n",
       "      <td>150</td>\n",
       "      <td>100</td>\n",
       "      <td>1</td>\n",
       "      <td>1</td>\n",
       "      <td>0</td>\n",
       "      <td>0</td>\n",
       "      <td>1</td>\n",
       "      <td>1</td>\n",
       "    </tr>\n",
       "    <tr>\n",
       "      <th>4</th>\n",
       "      <td>4</td>\n",
       "      <td>17474</td>\n",
       "      <td>1</td>\n",
       "      <td>156</td>\n",
       "      <td>56.0</td>\n",
       "      <td>100</td>\n",
       "      <td>60</td>\n",
       "      <td>1</td>\n",
       "      <td>1</td>\n",
       "      <td>0</td>\n",
       "      <td>0</td>\n",
       "      <td>0</td>\n",
       "      <td>0</td>\n",
       "    </tr>\n",
       "  </tbody>\n",
       "</table>\n",
       "</div>"
      ],
      "text/plain": [
       "   id    age  gender  height  weight  ap_hi  ap_lo  cholesterol  gluc  smoke  \\\n",
       "0   0  18393       2     168    62.0    110     80            1     1      0   \n",
       "1   1  20228       1     156    85.0    140     90            3     1      0   \n",
       "2   2  18857       1     165    64.0    130     70            3     1      0   \n",
       "3   3  17623       2     169    82.0    150    100            1     1      0   \n",
       "4   4  17474       1     156    56.0    100     60            1     1      0   \n",
       "\n",
       "   alco  active  cardio  \n",
       "0     0       1       0  \n",
       "1     0       1       1  \n",
       "2     0       0       1  \n",
       "3     0       1       1  \n",
       "4     0       0       0  "
      ]
     },
     "execution_count": 33,
     "metadata": {},
     "output_type": "execute_result"
    }
   ],
   "source": [
    "df = pd.read_csv('heartDS.csv')\n",
    "df.head()"
   ]
  },
  {
   "cell_type": "code",
   "execution_count": 34,
   "id": "ac0b4d44",
   "metadata": {
    "scrolled": true
   },
   "outputs": [
    {
     "data": {
      "text/html": [
       "<div>\n",
       "<style scoped>\n",
       "    .dataframe tbody tr th:only-of-type {\n",
       "        vertical-align: middle;\n",
       "    }\n",
       "\n",
       "    .dataframe tbody tr th {\n",
       "        vertical-align: top;\n",
       "    }\n",
       "\n",
       "    .dataframe thead th {\n",
       "        text-align: right;\n",
       "    }\n",
       "</style>\n",
       "<table border=\"1\" class=\"dataframe\">\n",
       "  <thead>\n",
       "    <tr style=\"text-align: right;\">\n",
       "      <th></th>\n",
       "      <th>age</th>\n",
       "      <th>gender</th>\n",
       "      <th>height</th>\n",
       "      <th>weight</th>\n",
       "      <th>ap_hi</th>\n",
       "      <th>ap_lo</th>\n",
       "      <th>cholesterol</th>\n",
       "      <th>gluc</th>\n",
       "      <th>smoke</th>\n",
       "      <th>alco</th>\n",
       "      <th>active</th>\n",
       "      <th>cardio</th>\n",
       "    </tr>\n",
       "  </thead>\n",
       "  <tbody>\n",
       "    <tr>\n",
       "      <th>0</th>\n",
       "      <td>18393</td>\n",
       "      <td>2</td>\n",
       "      <td>168</td>\n",
       "      <td>62.0</td>\n",
       "      <td>110</td>\n",
       "      <td>80</td>\n",
       "      <td>1</td>\n",
       "      <td>1</td>\n",
       "      <td>0</td>\n",
       "      <td>0</td>\n",
       "      <td>1</td>\n",
       "      <td>0</td>\n",
       "    </tr>\n",
       "    <tr>\n",
       "      <th>1</th>\n",
       "      <td>20228</td>\n",
       "      <td>1</td>\n",
       "      <td>156</td>\n",
       "      <td>85.0</td>\n",
       "      <td>140</td>\n",
       "      <td>90</td>\n",
       "      <td>3</td>\n",
       "      <td>1</td>\n",
       "      <td>0</td>\n",
       "      <td>0</td>\n",
       "      <td>1</td>\n",
       "      <td>1</td>\n",
       "    </tr>\n",
       "    <tr>\n",
       "      <th>2</th>\n",
       "      <td>18857</td>\n",
       "      <td>1</td>\n",
       "      <td>165</td>\n",
       "      <td>64.0</td>\n",
       "      <td>130</td>\n",
       "      <td>70</td>\n",
       "      <td>3</td>\n",
       "      <td>1</td>\n",
       "      <td>0</td>\n",
       "      <td>0</td>\n",
       "      <td>0</td>\n",
       "      <td>1</td>\n",
       "    </tr>\n",
       "    <tr>\n",
       "      <th>3</th>\n",
       "      <td>17623</td>\n",
       "      <td>2</td>\n",
       "      <td>169</td>\n",
       "      <td>82.0</td>\n",
       "      <td>150</td>\n",
       "      <td>100</td>\n",
       "      <td>1</td>\n",
       "      <td>1</td>\n",
       "      <td>0</td>\n",
       "      <td>0</td>\n",
       "      <td>1</td>\n",
       "      <td>1</td>\n",
       "    </tr>\n",
       "    <tr>\n",
       "      <th>4</th>\n",
       "      <td>17474</td>\n",
       "      <td>1</td>\n",
       "      <td>156</td>\n",
       "      <td>56.0</td>\n",
       "      <td>100</td>\n",
       "      <td>60</td>\n",
       "      <td>1</td>\n",
       "      <td>1</td>\n",
       "      <td>0</td>\n",
       "      <td>0</td>\n",
       "      <td>0</td>\n",
       "      <td>0</td>\n",
       "    </tr>\n",
       "  </tbody>\n",
       "</table>\n",
       "</div>"
      ],
      "text/plain": [
       "     age  gender  height  weight  ap_hi  ap_lo  cholesterol  gluc  smoke  \\\n",
       "0  18393       2     168    62.0    110     80            1     1      0   \n",
       "1  20228       1     156    85.0    140     90            3     1      0   \n",
       "2  18857       1     165    64.0    130     70            3     1      0   \n",
       "3  17623       2     169    82.0    150    100            1     1      0   \n",
       "4  17474       1     156    56.0    100     60            1     1      0   \n",
       "\n",
       "   alco  active  cardio  \n",
       "0     0       1       0  \n",
       "1     0       1       1  \n",
       "2     0       0       1  \n",
       "3     0       1       1  \n",
       "4     0       0       0  "
      ]
     },
     "execution_count": 34,
     "metadata": {},
     "output_type": "execute_result"
    }
   ],
   "source": [
    "df = df.drop('id', axis=1)\n",
    "df.head()"
   ]
  },
  {
   "cell_type": "code",
   "execution_count": 35,
   "id": "24b7a693",
   "metadata": {},
   "outputs": [
    {
     "data": {
      "text/html": [
       "<div>\n",
       "<style scoped>\n",
       "    .dataframe tbody tr th:only-of-type {\n",
       "        vertical-align: middle;\n",
       "    }\n",
       "\n",
       "    .dataframe tbody tr th {\n",
       "        vertical-align: top;\n",
       "    }\n",
       "\n",
       "    .dataframe thead th {\n",
       "        text-align: right;\n",
       "    }\n",
       "</style>\n",
       "<table border=\"1\" class=\"dataframe\">\n",
       "  <thead>\n",
       "    <tr style=\"text-align: right;\">\n",
       "      <th></th>\n",
       "      <th>age</th>\n",
       "      <th>gender</th>\n",
       "      <th>height</th>\n",
       "      <th>weight</th>\n",
       "      <th>ap_hi</th>\n",
       "      <th>ap_lo</th>\n",
       "      <th>cholesterol</th>\n",
       "      <th>gluc</th>\n",
       "      <th>smoke</th>\n",
       "      <th>alco</th>\n",
       "      <th>active</th>\n",
       "      <th>cardio</th>\n",
       "    </tr>\n",
       "  </thead>\n",
       "  <tbody>\n",
       "    <tr>\n",
       "      <th>0</th>\n",
       "      <td>50.0</td>\n",
       "      <td>2</td>\n",
       "      <td>168</td>\n",
       "      <td>62.0</td>\n",
       "      <td>110</td>\n",
       "      <td>80</td>\n",
       "      <td>1</td>\n",
       "      <td>1</td>\n",
       "      <td>0</td>\n",
       "      <td>0</td>\n",
       "      <td>1</td>\n",
       "      <td>0</td>\n",
       "    </tr>\n",
       "    <tr>\n",
       "      <th>1</th>\n",
       "      <td>55.0</td>\n",
       "      <td>1</td>\n",
       "      <td>156</td>\n",
       "      <td>85.0</td>\n",
       "      <td>140</td>\n",
       "      <td>90</td>\n",
       "      <td>3</td>\n",
       "      <td>1</td>\n",
       "      <td>0</td>\n",
       "      <td>0</td>\n",
       "      <td>1</td>\n",
       "      <td>1</td>\n",
       "    </tr>\n",
       "    <tr>\n",
       "      <th>2</th>\n",
       "      <td>52.0</td>\n",
       "      <td>1</td>\n",
       "      <td>165</td>\n",
       "      <td>64.0</td>\n",
       "      <td>130</td>\n",
       "      <td>70</td>\n",
       "      <td>3</td>\n",
       "      <td>1</td>\n",
       "      <td>0</td>\n",
       "      <td>0</td>\n",
       "      <td>0</td>\n",
       "      <td>1</td>\n",
       "    </tr>\n",
       "    <tr>\n",
       "      <th>3</th>\n",
       "      <td>48.0</td>\n",
       "      <td>2</td>\n",
       "      <td>169</td>\n",
       "      <td>82.0</td>\n",
       "      <td>150</td>\n",
       "      <td>100</td>\n",
       "      <td>1</td>\n",
       "      <td>1</td>\n",
       "      <td>0</td>\n",
       "      <td>0</td>\n",
       "      <td>1</td>\n",
       "      <td>1</td>\n",
       "    </tr>\n",
       "    <tr>\n",
       "      <th>4</th>\n",
       "      <td>48.0</td>\n",
       "      <td>1</td>\n",
       "      <td>156</td>\n",
       "      <td>56.0</td>\n",
       "      <td>100</td>\n",
       "      <td>60</td>\n",
       "      <td>1</td>\n",
       "      <td>1</td>\n",
       "      <td>0</td>\n",
       "      <td>0</td>\n",
       "      <td>0</td>\n",
       "      <td>0</td>\n",
       "    </tr>\n",
       "  </tbody>\n",
       "</table>\n",
       "</div>"
      ],
      "text/plain": [
       "    age  gender  height  weight  ap_hi  ap_lo  cholesterol  gluc  smoke  alco  \\\n",
       "0  50.0       2     168    62.0    110     80            1     1      0     0   \n",
       "1  55.0       1     156    85.0    140     90            3     1      0     0   \n",
       "2  52.0       1     165    64.0    130     70            3     1      0     0   \n",
       "3  48.0       2     169    82.0    150    100            1     1      0     0   \n",
       "4  48.0       1     156    56.0    100     60            1     1      0     0   \n",
       "\n",
       "   active  cardio  \n",
       "0       1       0  \n",
       "1       1       1  \n",
       "2       0       1  \n",
       "3       1       1  \n",
       "4       0       0  "
      ]
     },
     "execution_count": 35,
     "metadata": {},
     "output_type": "execute_result"
    }
   ],
   "source": [
    "df['age'] = np.round(df['age'] / 365.25)\n",
    "df.head()"
   ]
  },
  {
   "cell_type": "code",
   "execution_count": 36,
   "id": "9cc7a7cc",
   "metadata": {},
   "outputs": [
    {
     "data": {
      "text/html": [
       "<div>\n",
       "<style scoped>\n",
       "    .dataframe tbody tr th:only-of-type {\n",
       "        vertical-align: middle;\n",
       "    }\n",
       "\n",
       "    .dataframe tbody tr th {\n",
       "        vertical-align: top;\n",
       "    }\n",
       "\n",
       "    .dataframe thead th {\n",
       "        text-align: right;\n",
       "    }\n",
       "</style>\n",
       "<table border=\"1\" class=\"dataframe\">\n",
       "  <thead>\n",
       "    <tr style=\"text-align: right;\">\n",
       "      <th></th>\n",
       "      <th>age</th>\n",
       "      <th>gender</th>\n",
       "      <th>height</th>\n",
       "      <th>weight</th>\n",
       "      <th>ap_hi</th>\n",
       "      <th>ap_lo</th>\n",
       "      <th>smoke</th>\n",
       "      <th>alco</th>\n",
       "      <th>active</th>\n",
       "      <th>cardio</th>\n",
       "      <th>cholesterol_1</th>\n",
       "      <th>cholesterol_2</th>\n",
       "      <th>cholesterol_3</th>\n",
       "      <th>gluc_1</th>\n",
       "      <th>gluc_2</th>\n",
       "      <th>gluc_3</th>\n",
       "    </tr>\n",
       "  </thead>\n",
       "  <tbody>\n",
       "    <tr>\n",
       "      <th>0</th>\n",
       "      <td>50.0</td>\n",
       "      <td>2</td>\n",
       "      <td>168</td>\n",
       "      <td>62.0</td>\n",
       "      <td>110</td>\n",
       "      <td>80</td>\n",
       "      <td>0</td>\n",
       "      <td>0</td>\n",
       "      <td>1</td>\n",
       "      <td>0</td>\n",
       "      <td>1</td>\n",
       "      <td>0</td>\n",
       "      <td>0</td>\n",
       "      <td>1</td>\n",
       "      <td>0</td>\n",
       "      <td>0</td>\n",
       "    </tr>\n",
       "    <tr>\n",
       "      <th>1</th>\n",
       "      <td>55.0</td>\n",
       "      <td>1</td>\n",
       "      <td>156</td>\n",
       "      <td>85.0</td>\n",
       "      <td>140</td>\n",
       "      <td>90</td>\n",
       "      <td>0</td>\n",
       "      <td>0</td>\n",
       "      <td>1</td>\n",
       "      <td>1</td>\n",
       "      <td>0</td>\n",
       "      <td>0</td>\n",
       "      <td>1</td>\n",
       "      <td>1</td>\n",
       "      <td>0</td>\n",
       "      <td>0</td>\n",
       "    </tr>\n",
       "    <tr>\n",
       "      <th>2</th>\n",
       "      <td>52.0</td>\n",
       "      <td>1</td>\n",
       "      <td>165</td>\n",
       "      <td>64.0</td>\n",
       "      <td>130</td>\n",
       "      <td>70</td>\n",
       "      <td>0</td>\n",
       "      <td>0</td>\n",
       "      <td>0</td>\n",
       "      <td>1</td>\n",
       "      <td>0</td>\n",
       "      <td>0</td>\n",
       "      <td>1</td>\n",
       "      <td>1</td>\n",
       "      <td>0</td>\n",
       "      <td>0</td>\n",
       "    </tr>\n",
       "    <tr>\n",
       "      <th>3</th>\n",
       "      <td>48.0</td>\n",
       "      <td>2</td>\n",
       "      <td>169</td>\n",
       "      <td>82.0</td>\n",
       "      <td>150</td>\n",
       "      <td>100</td>\n",
       "      <td>0</td>\n",
       "      <td>0</td>\n",
       "      <td>1</td>\n",
       "      <td>1</td>\n",
       "      <td>1</td>\n",
       "      <td>0</td>\n",
       "      <td>0</td>\n",
       "      <td>1</td>\n",
       "      <td>0</td>\n",
       "      <td>0</td>\n",
       "    </tr>\n",
       "    <tr>\n",
       "      <th>4</th>\n",
       "      <td>48.0</td>\n",
       "      <td>1</td>\n",
       "      <td>156</td>\n",
       "      <td>56.0</td>\n",
       "      <td>100</td>\n",
       "      <td>60</td>\n",
       "      <td>0</td>\n",
       "      <td>0</td>\n",
       "      <td>0</td>\n",
       "      <td>0</td>\n",
       "      <td>1</td>\n",
       "      <td>0</td>\n",
       "      <td>0</td>\n",
       "      <td>1</td>\n",
       "      <td>0</td>\n",
       "      <td>0</td>\n",
       "    </tr>\n",
       "  </tbody>\n",
       "</table>\n",
       "</div>"
      ],
      "text/plain": [
       "    age  gender  height  weight  ap_hi  ap_lo  smoke  alco  active  cardio  \\\n",
       "0  50.0       2     168    62.0    110     80      0     0       1       0   \n",
       "1  55.0       1     156    85.0    140     90      0     0       1       1   \n",
       "2  52.0       1     165    64.0    130     70      0     0       0       1   \n",
       "3  48.0       2     169    82.0    150    100      0     0       1       1   \n",
       "4  48.0       1     156    56.0    100     60      0     0       0       0   \n",
       "\n",
       "   cholesterol_1  cholesterol_2  cholesterol_3  gluc_1  gluc_2  gluc_3  \n",
       "0              1              0              0       1       0       0  \n",
       "1              0              0              1       1       0       0  \n",
       "2              0              0              1       1       0       0  \n",
       "3              1              0              0       1       0       0  \n",
       "4              1              0              0       1       0       0  "
      ]
     },
     "execution_count": 36,
     "metadata": {},
     "output_type": "execute_result"
    }
   ],
   "source": [
    "df_new = pd.get_dummies(df, columns=['cholesterol', 'gluc'])\n",
    "df_new.head()"
   ]
  },
  {
   "cell_type": "code",
   "execution_count": 37,
   "id": "aad86870",
   "metadata": {},
   "outputs": [
    {
     "data": {
      "text/plain": [
       "DecisionTreeClassifier()"
      ]
     },
     "execution_count": 37,
     "metadata": {},
     "output_type": "execute_result"
    }
   ],
   "source": [
    "X = df_new.drop('cardio', axis=1)\n",
    "y = df_new['cardio']\n",
    "\n",
    "from sklearn.model_selection import train_test_split\n",
    "X_train, X_valid, y_train, y_valid = train_test_split(X, y, test_size=0.25, random_state=22)\n",
    "\n",
    "tree = DecisionTreeClassifier()\n",
    "tree.fit(X_train, y_train)"
   ]
  },
  {
   "cell_type": "code",
   "execution_count": 38,
   "id": "a86b47b7",
   "metadata": {},
   "outputs": [
    {
     "name": "stdout",
     "output_type": "stream",
     "text": [
      "0.6345714285714286\n"
     ]
    }
   ],
   "source": [
    "y_pred = tree.predict(X_valid)\n",
    "print(accuracy_score(y_valid, y_pred))"
   ]
  },
  {
   "cell_type": "code",
   "execution_count": null,
   "id": "481b1872",
   "metadata": {},
   "outputs": [],
   "source": []
  },
  {
   "cell_type": "code",
   "execution_count": null,
   "id": "50bcf6fd",
   "metadata": {},
   "outputs": [],
   "source": []
  },
  {
   "cell_type": "code",
   "execution_count": null,
   "id": "3399d181",
   "metadata": {},
   "outputs": [],
   "source": []
  }
 ],
 "metadata": {
  "kernelspec": {
   "display_name": "Python 3 (ipykernel)",
   "language": "python",
   "name": "python3"
  },
  "language_info": {
   "codemirror_mode": {
    "name": "ipython",
    "version": 3
   },
   "file_extension": ".py",
   "mimetype": "text/x-python",
   "name": "python",
   "nbconvert_exporter": "python",
   "pygments_lexer": "ipython3",
   "version": "3.9.13"
  }
 },
 "nbformat": 4,
 "nbformat_minor": 5
}

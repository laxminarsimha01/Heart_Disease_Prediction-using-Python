{
 "cells": [
  {
   "cell_type": "markdown",
   "id": "ea7acc0a",
   "metadata": {},
   "source": [
    "# CardioVascular Heart Disease Prediction System"
   ]
  },
  {
   "cell_type": "markdown",
   "id": "38fb661e",
   "metadata": {},
   "source": [
    "# (i) Data Exploration"
   ]
  },
  {
   "cell_type": "code",
   "execution_count": 1,
   "id": "3314bef1-7bf7-4358-9c4a-a8f0c826fc89",
   "metadata": {},
   "outputs": [
    {
     "name": "stdout",
     "output_type": "stream",
     "text": [
      "Requirement already satisfied: plotnine in c:\\users\\laxmi\\appdata\\local\\programs\\python\\python311\\lib\\site-packages (from -r requirements.txt (line 1)) (0.13.6)\n",
      "Requirement already satisfied: scipy in c:\\users\\laxmi\\appdata\\local\\programs\\python\\python311\\lib\\site-packages (from -r requirements.txt (line 2)) (1.13.1)\n",
      "Requirement already satisfied: pandas in c:\\users\\laxmi\\appdata\\local\\programs\\python\\python311\\lib\\site-packages (from -r requirements.txt (line 3)) (2.1.1)\n",
      "Requirement already satisfied: numpy in c:\\users\\laxmi\\appdata\\local\\programs\\python\\python311\\lib\\site-packages (from -r requirements.txt (line 4)) (1.26.0)\n",
      "Requirement already satisfied: matplotlib in c:\\users\\laxmi\\appdata\\local\\programs\\python\\python311\\lib\\site-packages (from -r requirements.txt (line 5)) (3.8.0)\n",
      "Requirement already satisfied: seaborn in c:\\users\\laxmi\\appdata\\local\\programs\\python\\python311\\lib\\site-packages (from -r requirements.txt (line 6)) (0.13.2)\n",
      "Collecting sklearn (from -r requirements.txt (line 8))\n",
      "  Using cached sklearn-0.0.post12.tar.gz (2.6 kB)\n",
      "  Preparing metadata (setup.py): started\n",
      "  Preparing metadata (setup.py): finished with status 'error'\n",
      "Note: you may need to restart the kernel to use updated packages.\n"
     ]
    },
    {
     "name": "stderr",
     "output_type": "stream",
     "text": [
      "  error: subprocess-exited-with-error\n",
      "  \n",
      "  python setup.py egg_info did not run successfully.\n",
      "  exit code: 1\n",
      "  \n",
      "  [15 lines of output]\n",
      "  The 'sklearn' PyPI package is deprecated, use 'scikit-learn'\n",
      "  rather than 'sklearn' for pip commands.\n",
      "  \n",
      "  Here is how to fix this error in the main use cases:\n",
      "  - use 'pip install scikit-learn' rather than 'pip install sklearn'\n",
      "  - replace 'sklearn' by 'scikit-learn' in your pip requirements files\n",
      "    (requirements.txt, setup.py, setup.cfg, Pipfile, etc ...)\n",
      "  - if the 'sklearn' package is used by one of your dependencies,\n",
      "    it would be great if you take some time to track which package uses\n",
      "    'sklearn' instead of 'scikit-learn' and report it to their issue tracker\n",
      "  - as a last resort, set the environment variable\n",
      "    SKLEARN_ALLOW_DEPRECATED_SKLEARN_PACKAGE_INSTALL=True to avoid this error\n",
      "  \n",
      "  More information is available at\n",
      "  https://github.com/scikit-learn/sklearn-pypi-package\n",
      "  [end of output]\n",
      "  \n",
      "  note: This error originates from a subprocess, and is likely not a problem with pip.\n",
      "error: metadata-generation-failed\n",
      "\n",
      "Encountered error while generating package metadata.\n",
      "\n",
      "See above for output.\n",
      "\n",
      "note: This is an issue with the package mentioned above, not pip.\n",
      "hint: See above for details.\n"
     ]
    }
   ],
   "source": [
    " pip install -r requirements.txt"
   ]
  },
  {
   "cell_type": "code",
   "execution_count": 2,
   "id": "59a3e399",
   "metadata": {},
   "outputs": [
    {
     "name": "stdout",
     "output_type": "stream",
     "text": [
      "   id    age  gender  height  weight  ap_hi  ap_lo  cholesterol  gluc  smoke  \\\n",
      "0   0  18393       2     168    62.0    110     80            1     1      0   \n",
      "1   1  20228       1     156    85.0    140     90            3     1      0   \n",
      "2   2  18857       1     165    64.0    130     70            3     1      0   \n",
      "3   3  17623       2     169    82.0    150    100            1     1      0   \n",
      "4   4  17474       1     156    56.0    100     60            1     1      0   \n",
      "\n",
      "   alco  active  cardio  \n",
      "0     0       1       0  \n",
      "1     0       1       1  \n",
      "2     0       0       1  \n",
      "3     0       1       1  \n",
      "4     0       0       0  \n"
     ]
    }
   ],
   "source": [
    "import pandas as pd\n",
    "import numpy as np\n",
    "import matplotlib.pyplot as plt\n",
    "import seaborn as sns\n",
    "from plotnine import *\n",
    "from scipy.stats import chi2_contingency, ttest_ind, pearsonr\n",
    "from scipy import stats\n",
    "from sklearn.tree import DecisionTreeClassifier\n",
    "from sklearn.metrics import accuracy_score\n",
    "\n",
    "\n",
    "import statsmodels.api as sm\n",
    "from sklearn.model_selection import train_test_split\n",
    "\n",
    "\n",
    "\n",
    "data = pd.read_csv(\"heartDS.csv\")  # Reading the data\n",
    "\n",
    "# Print first few rows of the data\n",
    "print(data.head())\n"
   ]
  },
  {
   "cell_type": "code",
   "execution_count": 3,
   "id": "34e134f7",
   "metadata": {},
   "outputs": [
    {
     "name": "stdout",
     "output_type": "stream",
     "text": [
      "(70000, 13)\n"
     ]
    }
   ],
   "source": [
    "# Print dimensions of the data\n",
    "print(data.shape)\n"
   ]
  },
  {
   "cell_type": "code",
   "execution_count": 4,
   "id": "27e67b92",
   "metadata": {},
   "outputs": [
    {
     "name": "stdout",
     "output_type": "stream",
     "text": [
      "Index(['id', 'age', 'gender', 'height', 'weight', 'ap_hi', 'ap_lo',\n",
      "       'cholesterol', 'gluc', 'smoke', 'alco', 'active', 'cardio'],\n",
      "      dtype='object')\n"
     ]
    }
   ],
   "source": [
    "print(data.columns)"
   ]
  },
  {
   "cell_type": "code",
   "execution_count": 5,
   "id": "0ead24f7",
   "metadata": {},
   "outputs": [
    {
     "name": "stdout",
     "output_type": "stream",
     "text": [
      "                 id           age        gender        height        weight  \\\n",
      "count  70000.000000  70000.000000  70000.000000  70000.000000  70000.000000   \n",
      "mean   49972.419900  19468.865814      1.349571    164.359229     74.205690   \n",
      "std    28851.302323   2467.251667      0.476838      8.210126     14.395757   \n",
      "min        0.000000  10798.000000      1.000000     55.000000     10.000000   \n",
      "25%    25006.750000  17664.000000      1.000000    159.000000     65.000000   \n",
      "50%    50001.500000  19703.000000      1.000000    165.000000     72.000000   \n",
      "75%    74889.250000  21327.000000      2.000000    170.000000     82.000000   \n",
      "max    99999.000000  23713.000000      2.000000    250.000000    200.000000   \n",
      "\n",
      "              ap_hi         ap_lo   cholesterol          gluc         smoke  \\\n",
      "count  70000.000000  70000.000000  70000.000000  70000.000000  70000.000000   \n",
      "mean     128.817286     96.630414      1.366871      1.226457      0.088129   \n",
      "std      154.011419    188.472530      0.680250      0.572270      0.283484   \n",
      "min     -150.000000    -70.000000      1.000000      1.000000      0.000000   \n",
      "25%      120.000000     80.000000      1.000000      1.000000      0.000000   \n",
      "50%      120.000000     80.000000      1.000000      1.000000      0.000000   \n",
      "75%      140.000000     90.000000      2.000000      1.000000      0.000000   \n",
      "max    16020.000000  11000.000000      3.000000      3.000000      1.000000   \n",
      "\n",
      "               alco        active        cardio  \n",
      "count  70000.000000  70000.000000  70000.000000  \n",
      "mean       0.053771      0.803729      0.499700  \n",
      "std        0.225568      0.397179      0.500003  \n",
      "min        0.000000      0.000000      0.000000  \n",
      "25%        0.000000      1.000000      0.000000  \n",
      "50%        0.000000      1.000000      0.000000  \n",
      "75%        0.000000      1.000000      1.000000  \n",
      "max        1.000000      1.000000      1.000000  \n"
     ]
    }
   ],
   "source": [
    "print(data.describe()) # Summary statictics"
   ]
  },
  {
   "cell_type": "code",
   "execution_count": 6,
   "id": "7bf2e69b",
   "metadata": {},
   "outputs": [
    {
     "name": "stdout",
     "output_type": "stream",
     "text": [
      "     age  gender  height  weight  ap_hi  ap_lo  cholesterol  gluc  smoke  \\\n",
      "0  18393       2     168    62.0    110     80            1     1      0   \n",
      "1  20228       1     156    85.0    140     90            3     1      0   \n",
      "2  18857       1     165    64.0    130     70            3     1      0   \n",
      "3  17623       2     169    82.0    150    100            1     1      0   \n",
      "4  17474       1     156    56.0    100     60            1     1      0   \n",
      "\n",
      "   alco  active  cardio  \n",
      "0     0       1       0  \n",
      "1     0       1       1  \n",
      "2     0       0       1  \n",
      "3     0       1       1  \n",
      "4     0       0       0  \n"
     ]
    }
   ],
   "source": [
    "data1 = data.iloc[:, 1:13]\n",
    "print(data1.head())\n"
   ]
  },
  {
   "cell_type": "code",
   "execution_count": 7,
   "id": "4b1e534d",
   "metadata": {},
   "outputs": [
    {
     "name": "stdout",
     "output_type": "stream",
     "text": [
      "     age  gender  height  weight  ap_hi  ap_lo  cholesterol  gluc  smoke  \\\n",
      "0  18393       2     168    62.0    110     80            1     1      0   \n",
      "1  20228       1     156    85.0    140     90            3     1      0   \n",
      "2  18857       1     165    64.0    130     70            3     1      0   \n",
      "3  17623       2     169    82.0    150    100            1     1      0   \n",
      "4  17474       1     156    56.0    100     60            1     1      0   \n",
      "\n",
      "   alco  active  cardio  \n",
      "0     0       1       0  \n",
      "1     0       1       1  \n",
      "2     0       0       1  \n",
      "3     0       1       1  \n",
      "4     0       0       0  \n",
      "                age        gender        height        weight         ap_hi  \\\n",
      "count  68764.000000  68764.000000  68764.000000  68764.000000  68764.000000   \n",
      "mean   19464.144581      1.348613    164.359752     74.113846    128.840440   \n",
      "std     2468.275317      0.476535      8.190652     14.330819    155.203641   \n",
      "min    10798.000000      1.000000     55.000000     11.000000     12.000000   \n",
      "25%    17657.000000      1.000000    159.000000     65.000000    120.000000   \n",
      "50%    19701.000000      1.000000    165.000000     72.000000    120.000000   \n",
      "75%    21324.000000      2.000000    170.000000     82.000000    140.000000   \n",
      "max    23713.000000      2.000000    250.000000    200.000000  16020.000000   \n",
      "\n",
      "              ap_lo   cholesterol          gluc         smoke          alco  \\\n",
      "count  68764.000000  68764.000000  68764.000000  68764.000000  68764.000000   \n",
      "mean      81.245230      1.364668      1.225583      0.087880      0.053342   \n",
      "std        9.693745      0.678883      0.571448      0.283123      0.224716   \n",
      "min      -70.000000      1.000000      1.000000      0.000000      0.000000   \n",
      "25%       80.000000      1.000000      1.000000      0.000000      0.000000   \n",
      "50%       80.000000      1.000000      1.000000      0.000000      0.000000   \n",
      "75%       90.000000      2.000000      1.000000      0.000000      0.000000   \n",
      "max      182.000000      3.000000      3.000000      1.000000      1.000000   \n",
      "\n",
      "             active        cardio  \n",
      "count  68764.000000  68764.000000  \n",
      "mean       0.803458      0.494765  \n",
      "std        0.397386      0.499976  \n",
      "min        0.000000      0.000000  \n",
      "25%        1.000000      0.000000  \n",
      "50%        1.000000      0.000000  \n",
      "75%        1.000000      1.000000  \n",
      "max        1.000000      1.000000  \n"
     ]
    }
   ],
   "source": [
    "# Filter the data to select rows where ap_hi is greater than ap_lo\n",
    "data1 = data1[data1['ap_hi'] > data1['ap_lo']]\n",
    "\n",
    "print(data1.head())\n",
    "\n",
    "# Print summary statistics of filtered data\n",
    "print(data1.describe())"
   ]
  },
  {
   "cell_type": "markdown",
   "id": "ca0231aa",
   "metadata": {},
   "source": [
    "# (ii) Data Preprocessing"
   ]
  },
  {
   "cell_type": "code",
   "execution_count": 8,
   "id": "67b1e5ba",
   "metadata": {},
   "outputs": [
    {
     "name": "stdout",
     "output_type": "stream",
     "text": [
      "     age  gender  height  weight  ap_hi  ap_lo  cholesterol  gluc  smoke  \\\n",
      "0  18393       2     168    62.0    110     80            1     1      0   \n",
      "1  20228       1     156    85.0    140     90            3     1      0   \n",
      "2  18857       1     165    64.0    130     70            3     1      0   \n",
      "3  17623       2     169    82.0    150    100            1     1      0   \n",
      "4  17474       1     156    56.0    100     60            1     1      0   \n",
      "\n",
      "   alco  active  cardio  \n",
      "0     0       1       0  \n",
      "1     0       1       1  \n",
      "2     0       0       1  \n",
      "3     0       1       1  \n",
      "4     0       0       0  \n"
     ]
    }
   ],
   "source": [
    "# Remove rows with missing values\n",
    "data1 = data1.dropna()\n",
    "\n",
    "# Filter the data to select rows where height is between 140 and 220, weight is greater than or equal to 30, ap_lo is between 30 and 170, and ap_hi is between 70 and 249\n",
    "data1 = data1[(data1['height'] >= 140) & (data1['height'] <= 220) & (data1['weight'] >= 30) & (data1['ap_lo'] >= 30) & (data1['ap_lo'] <= 170) & (data1['ap_hi'] >= 70) & (data1['ap_hi'] < 250)]\n",
    "\n",
    "# Print first few rows of the filtered data\n",
    "print(data1.head())\n",
    "\n"
   ]
  },
  {
   "cell_type": "code",
   "execution_count": 9,
   "id": "f135704d",
   "metadata": {},
   "outputs": [
    {
     "name": "stdout",
     "output_type": "stream",
     "text": [
      "                age        gender        height        weight         ap_hi  \\\n",
      "count  68521.000000  68521.000000  68521.000000  68521.000000  68521.000000   \n",
      "mean   19464.769910      1.348725    164.463814     74.119509    126.677179   \n",
      "std     2467.598213      0.476570      7.801033     14.279415     16.686006   \n",
      "min    10798.000000      1.000000    140.000000     30.000000     70.000000   \n",
      "25%    17658.000000      1.000000    159.000000     65.000000    120.000000   \n",
      "50%    19701.000000      1.000000    165.000000     72.000000    120.000000   \n",
      "75%    21324.000000      2.000000    170.000000     82.000000    140.000000   \n",
      "max    23713.000000      2.000000    207.000000    200.000000    240.000000   \n",
      "\n",
      "              ap_lo   cholesterol          gluc         smoke          alco  \\\n",
      "count  68521.000000  68521.000000  68521.000000  68521.000000  68521.000000   \n",
      "mean      81.304053      1.364866      1.225756      0.088017      0.053385   \n",
      "std        9.447325      0.679069      0.571619      0.283321      0.224802   \n",
      "min       30.000000      1.000000      1.000000      0.000000      0.000000   \n",
      "25%       80.000000      1.000000      1.000000      0.000000      0.000000   \n",
      "50%       80.000000      1.000000      1.000000      0.000000      0.000000   \n",
      "75%       90.000000      2.000000      1.000000      0.000000      0.000000   \n",
      "max      170.000000      3.000000      3.000000      1.000000      1.000000   \n",
      "\n",
      "             active        cardio  \n",
      "count  68521.000000  68521.000000  \n",
      "mean       0.803476      0.494768  \n",
      "std        0.397372      0.499976  \n",
      "min        0.000000      0.000000  \n",
      "25%        1.000000      0.000000  \n",
      "50%        1.000000      0.000000  \n",
      "75%        1.000000      1.000000  \n",
      "max        1.000000      1.000000  \n"
     ]
    }
   ],
   "source": [
    "# Print summary statistics of the filtered data\n",
    "print(data1.describe())\n"
   ]
  },
  {
   "cell_type": "code",
   "execution_count": 10,
   "id": "5a8aa3b7",
   "metadata": {},
   "outputs": [
    {
     "name": "stdout",
     "output_type": "stream",
     "text": [
      "(68521, 12)\n"
     ]
    }
   ],
   "source": [
    "# Print dimensions of the filtered data\n",
    "print(data1.shape)"
   ]
  },
  {
   "cell_type": "markdown",
   "id": "e286a670",
   "metadata": {},
   "source": [
    "# (iii) Plotting Graphs"
   ]
  },
  {
   "cell_type": "code",
   "execution_count": 11,
   "id": "425e76e1",
   "metadata": {},
   "outputs": [
    {
     "name": "stdout",
     "output_type": "stream",
     "text": [
      "                age        height        weight         ap_hi         ap_lo\n",
      "count  68521.000000  68521.000000  68521.000000  68521.000000  68521.000000\n",
      "mean   19464.769910    164.463814     74.119509    126.677179     81.304053\n",
      "std     2467.598213      7.801033     14.279415     16.686006      9.447325\n",
      "min    10798.000000    140.000000     30.000000     70.000000     30.000000\n",
      "25%    17658.000000    159.000000     65.000000    120.000000     80.000000\n",
      "50%    19701.000000    165.000000     72.000000    120.000000     80.000000\n",
      "75%    21324.000000    170.000000     82.000000    140.000000     90.000000\n",
      "max    23713.000000    207.000000    200.000000    240.000000    170.000000\n"
     ]
    }
   ],
   "source": [
    "# Filter the data to select rows where height is between 140 and 220, weight is greater than or equal to 30, ap_lo is between 30 and 170, and ap_hi is between 70 and 249\n",
    "data2 = data1[(data1['height'] >= 140) & (data1['height'] <= 220) & \n",
    "              (data1['weight'] >= 30) & (data1['ap_lo'] >= 30) &\n",
    "              (data1['ap_lo'] <= 170) & (data1['ap_hi'] >= 70) & (data1['ap_hi'] < 250)]\n",
    "\n",
    "# Convert selected columns to factor type\n",
    "cols = [\"gender\", \"cholesterol\", \"gluc\", \"smoke\", \"alco\", \"active\", \"cardio\"]\n",
    "data2[cols] = data2[cols].astype('category')\n",
    "\n",
    "# Print summary statistics of the filtered data\n",
    "print(data2.describe())\n"
   ]
  },
  {
   "cell_type": "code",
   "execution_count": 12,
   "id": "a0447f23",
   "metadata": {},
   "outputs": [
    {
     "name": "stdout",
     "output_type": "stream",
     "text": [
      "                age        height        weight         ap_hi         ap_lo\n",
      "count  47973.000000  47973.000000  47973.000000  47973.000000  47973.000000\n",
      "mean   19471.585329    164.482667     74.096406    126.675109     81.314781\n",
      "std     2468.012074      7.807643     14.288710     16.684356      9.444470\n",
      "min    10798.000000    140.000000     30.000000     70.000000     30.000000\n",
      "25%    17666.000000    159.000000     65.000000    120.000000     80.000000\n",
      "50%    19708.000000    165.000000     72.000000    120.000000     80.000000\n",
      "75%    21331.000000    170.000000     82.000000    140.000000     90.000000\n",
      "max    23713.000000    207.000000    200.000000    240.000000    160.000000\n"
     ]
    }
   ],
   "source": [
    "# Split the data into train, test, and validation sets\n",
    "idx = np.random.choice(np.arange(1, 4), size=data2.shape[0], replace=True, p=[0.7, 0.15, 0.15])\n",
    "train = data2[idx == 1]\n",
    "test = data2[idx == 2]\n",
    "valid = data2[idx == 3]\n",
    "\n",
    "# Print summary statistics of the train data\n",
    "print(train.describe())"
   ]
  },
  {
   "cell_type": "code",
   "execution_count": 13,
   "id": "dea3866c",
   "metadata": {},
   "outputs": [
    {
     "name": "stdout",
     "output_type": "stream",
     "text": [
      "(47973, 12)\n",
      "(10321, 12)\n",
      "(10227, 12)\n"
     ]
    }
   ],
   "source": [
    "# Print dimensions of the train, test, and validation sets\n",
    "print(train.shape)\n",
    "print(test.shape)\n",
    "print(valid.shape)\n",
    "\n"
   ]
  },
  {
   "cell_type": "code",
   "execution_count": 14,
   "id": "a4fb2a63",
   "metadata": {},
   "outputs": [
    {
     "data": {
      "image/png": "[encoded data removed]"
     },
     "metadata": {
      "image/png": {
       "height": 480,
       "width": 640
      }
     },
     "output_type": "display_data"
    }
   ],
   "source": [
    "# Create a density plot of age\n",
    "ggplot(train, aes(x='age')) + geom_density()\n"
   ]
  },
  {
   "cell_type": "code",
   "execution_count": 15,
   "id": "ad3c2a10",
   "metadata": {},
   "outputs": [
    {
     "data": {
      "image/png": "[encoded data removed]"
     },
     "metadata": {
      "image/png": {
       "height": 480,
       "width": 640
      }
     },
     "output_type": "display_data"
    }
   ],
   "source": [
    "\n",
    "# Create a histogram and density plot of height\n",
    "ggplot(train, aes(x='height')) + geom_histogram(aes(y='..density..'), binwidth=.5, colour=\"black\", fill=\"white\") +geom_density(alpha=.2, fill=\"#FF6666\")"
   ]
  },
  {
   "cell_type": "code",
   "execution_count": 16,
   "id": "3d8b58b1",
   "metadata": {},
   "outputs": [
    {
     "data": {
      "image/png": "[encoded data removed]"
     },
     "metadata": {
      "image/png": {
       "height": 480,
       "width": 640
      }
     },
     "output_type": "display_data"
    }
   ],
   "source": [
    "# Create a histogram and density plot of weight\n",
    "ggplot(train, aes(x='weight')) + geom_histogram(aes(y='..density..'), binwidth=.5, colour=\"black\", fill=\"white\") + geom_density(alpha=.2, fill=\"#FF6666\")"
   ]
  },
  {
   "cell_type": "code",
   "execution_count": 17,
   "id": "0f0abe0e",
   "metadata": {},
   "outputs": [
    {
     "name": "stdout",
     "output_type": "stream",
     "text": [
      "             age    height    weight     ap_hi     ap_lo\n",
      "age     1.000000 -0.087024  0.052353  0.207352  0.155472\n",
      "height -0.087024  1.000000  0.314292  0.019384  0.036703\n",
      "weight  0.052353  0.314292  1.000000  0.270609  0.254152\n",
      "ap_hi   0.207352  0.019384  0.270609  1.000000  0.736468\n",
      "ap_lo   0.155472  0.036703  0.254152  0.736468  1.000000\n"
     ]
    }
   ],
   "source": [
    "# Calculate the correlation matrix of selected variables in the train data\n",
    "train_corr = train.iloc[:, [0, 2, 3, 4, 5]].corr()\n",
    "print(train_corr)\n",
    "\n"
   ]
  },
  {
   "cell_type": "code",
   "execution_count": 18,
   "id": "86f0dfee",
   "metadata": {},
   "outputs": [
    {
     "data": {
      "text/plain": [
       "<Axes: >"
      ]
     },
     "execution_count": 18,
     "metadata": {},
     "output_type": "execute_result"
    }
   ],
   "source": [
    "sns.heatmap(train_corr, annot=True, cmap='coolwarm')"
   ]
  },
  {
   "cell_type": "code",
   "execution_count": 19,
   "id": "95d45df3",
   "metadata": {},
   "outputs": [
    {
     "name": "stdout",
     "output_type": "stream",
     "text": [
      "TtestResult(statistic=-18.991662685088944, pvalue=4.299053265652624e-80, df=42467.0)\n",
      "PearsonRResult(statistic=0.31429222228976617, pvalue=0.0)\n"
     ]
    }
   ],
   "source": [
    "weight_chol_test = stats.ttest_ind(train[train['cholesterol'] == 1]['weight'], train[train['cholesterol'] == 2]['weight'], equal_var=True)\n",
    "print(weight_chol_test)\n",
    "\n",
    "\n",
    "sns.boxplot(data=train, x='cholesterol', y='weight')\n",
    "\n",
    "height_weight_corr = stats.pearsonr(train['height'], train['weight'])\n",
    "print(height_weight_corr)"
   ]
  },
  {
   "cell_type": "code",
   "execution_count": 20,
   "id": "3adedd7e",
   "metadata": {},
   "outputs": [
    {
     "name": "stdout",
     "output_type": "stream",
     "text": [
      "5412.578420509368 0.0\n"
     ]
    },
    {
     "name": "stderr",
     "output_type": "stream",
     "text": [
      "C:\\Users\\laxmi\\AppData\\Local\\Temp\\ipykernel_8968\\686492678.py:5: SettingWithCopyWarning: \n",
      "A value is trying to be set on a copy of a slice from a DataFrame.\n",
      "Try using .loc[row_indexer,col_indexer] = value instead\n",
      "\n",
      "See the caveats in the documentation: https://pandas.pydata.org/pandas-docs/stable/user_guide/indexing.html#returning-a-view-versus-a-copy\n",
      "C:\\Users\\laxmi\\AppData\\Local\\Temp\\ipykernel_8968\\686492678.py:6: SettingWithCopyWarning: \n",
      "A value is trying to be set on a copy of a slice from a DataFrame.\n",
      "Try using .loc[row_indexer,col_indexer] = value instead\n",
      "\n",
      "See the caveats in the documentation: https://pandas.pydata.org/pandas-docs/stable/user_guide/indexing.html#returning-a-view-versus-a-copy\n",
      "C:\\Users\\laxmi\\AppData\\Local\\Temp\\ipykernel_8968\\686492678.py:7: SettingWithCopyWarning: \n",
      "A value is trying to be set on a copy of a slice from a DataFrame.\n",
      "Try using .loc[row_indexer,col_indexer] = value instead\n",
      "\n",
      "See the caveats in the documentation: https://pandas.pydata.org/pandas-docs/stable/user_guide/indexing.html#returning-a-view-versus-a-copy\n"
     ]
    },
    {
     "data": {
      "text/html": [
       "<div>\n",
       "<style scoped>\n",
       "    .dataframe tbody tr th:only-of-type {\n",
       "        vertical-align: middle;\n",
       "    }\n",
       "\n",
       "    .dataframe tbody tr th {\n",
       "        vertical-align: top;\n",
       "    }\n",
       "\n",
       "    .dataframe thead th {\n",
       "        text-align: right;\n",
       "    }\n",
       "</style>\n",
       "<table border=\"1\" class=\"dataframe\">\n",
       "  <thead>\n",
       "    <tr style=\"text-align: right;\">\n",
       "      <th></th>\n",
       "      <th>age</th>\n",
       "      <th>height</th>\n",
       "      <th>weight</th>\n",
       "      <th>ap_hi</th>\n",
       "      <th>ap_lo</th>\n",
       "    </tr>\n",
       "  </thead>\n",
       "  <tbody>\n",
       "    <tr>\n",
       "      <th>count</th>\n",
       "      <td>47973.000000</td>\n",
       "      <td>47973.000000</td>\n",
       "      <td>47973.000000</td>\n",
       "      <td>47973.000000</td>\n",
       "      <td>47973.000000</td>\n",
       "    </tr>\n",
       "    <tr>\n",
       "      <th>mean</th>\n",
       "      <td>53.346809</td>\n",
       "      <td>164.482667</td>\n",
       "      <td>74.096406</td>\n",
       "      <td>126.675109</td>\n",
       "      <td>81.314781</td>\n",
       "    </tr>\n",
       "    <tr>\n",
       "      <th>std</th>\n",
       "      <td>6.761677</td>\n",
       "      <td>7.807643</td>\n",
       "      <td>14.288710</td>\n",
       "      <td>16.684356</td>\n",
       "      <td>9.444470</td>\n",
       "    </tr>\n",
       "    <tr>\n",
       "      <th>min</th>\n",
       "      <td>29.583562</td>\n",
       "      <td>140.000000</td>\n",
       "      <td>30.000000</td>\n",
       "      <td>70.000000</td>\n",
       "      <td>30.000000</td>\n",
       "    </tr>\n",
       "    <tr>\n",
       "      <th>25%</th>\n",
       "      <td>48.400000</td>\n",
       "      <td>159.000000</td>\n",
       "      <td>65.000000</td>\n",
       "      <td>120.000000</td>\n",
       "      <td>80.000000</td>\n",
       "    </tr>\n",
       "    <tr>\n",
       "      <th>50%</th>\n",
       "      <td>53.994521</td>\n",
       "      <td>165.000000</td>\n",
       "      <td>72.000000</td>\n",
       "      <td>120.000000</td>\n",
       "      <td>80.000000</td>\n",
       "    </tr>\n",
       "    <tr>\n",
       "      <th>75%</th>\n",
       "      <td>58.441096</td>\n",
       "      <td>170.000000</td>\n",
       "      <td>82.000000</td>\n",
       "      <td>140.000000</td>\n",
       "      <td>90.000000</td>\n",
       "    </tr>\n",
       "    <tr>\n",
       "      <th>max</th>\n",
       "      <td>64.967123</td>\n",
       "      <td>207.000000</td>\n",
       "      <td>200.000000</td>\n",
       "      <td>240.000000</td>\n",
       "      <td>160.000000</td>\n",
       "    </tr>\n",
       "  </tbody>\n",
       "</table>\n",
       "</div>"
      ],
      "text/plain": [
       "                age        height        weight         ap_hi         ap_lo\n",
       "count  47973.000000  47973.000000  47973.000000  47973.000000  47973.000000\n",
       "mean      53.346809    164.482667     74.096406    126.675109     81.314781\n",
       "std        6.761677      7.807643     14.288710     16.684356      9.444470\n",
       "min       29.583562    140.000000     30.000000     70.000000     30.000000\n",
       "25%       48.400000    159.000000     65.000000    120.000000     80.000000\n",
       "50%       53.994521    165.000000     72.000000    120.000000     80.000000\n",
       "75%       58.441096    170.000000     82.000000    140.000000     90.000000\n",
       "max       64.967123    207.000000    200.000000    240.000000    160.000000"
      ]
     },
     "execution_count": 20,
     "metadata": {},
     "output_type": "execute_result"
    }
   ],
   "source": [
    "\n",
    "gender_smoke_table = pd.crosstab(train['gender'], train['smoke'])\n",
    "gender_smoke_chi2, gender_smoke_p, gender_smoke_dof, gender_smoke_expected = stats.chi2_contingency(gender_smoke_table, correction=False)\n",
    "print(gender_smoke_chi2, gender_smoke_p)\n",
    "\n",
    "train['age'] = train['age'] / 365\n",
    "test['age'] = test['age'] / 365\n",
    "valid['age'] = valid['age'] / 365\n",
    "\n",
    "train.describe()"
   ]
  },
  {
   "cell_type": "code",
   "execution_count": 21,
   "id": "3b1ef213",
   "metadata": {},
   "outputs": [
    {
     "data": {
      "image/png": "[encoded data removed]"
     },
     "metadata": {
      "image/png": {
       "height": 480,
       "width": 640
      }
     },
     "output_type": "display_data"
    }
   ],
   "source": [
    "# Create a boxplot to visualize the distribution of weight across levels of cholesterol\n",
    "ggplot(train, aes(x='cholesterol', y='weight')) + geom_boxplot()\n"
   ]
  },
  {
   "cell_type": "markdown",
   "id": "01382fa9",
   "metadata": {},
   "source": [
    "# (iv)Creating BMI row to analyze with Body mass index instead of using weight and height plainly"
   ]
  },
  {
   "cell_type": "code",
   "execution_count": 22,
   "id": "a5881a86",
   "metadata": {},
   "outputs": [
    {
     "name": "stderr",
     "output_type": "stream",
     "text": [
      "C:\\Users\\laxmi\\AppData\\Local\\Temp\\ipykernel_8968\\1395030687.py:1: SettingWithCopyWarning: \n",
      "A value is trying to be set on a copy of a slice from a DataFrame.\n",
      "Try using .loc[row_indexer,col_indexer] = value instead\n",
      "\n",
      "See the caveats in the documentation: https://pandas.pydata.org/pandas-docs/stable/user_guide/indexing.html#returning-a-view-versus-a-copy\n",
      "C:\\Users\\laxmi\\AppData\\Local\\Temp\\ipykernel_8968\\1395030687.py:2: SettingWithCopyWarning: \n",
      "A value is trying to be set on a copy of a slice from a DataFrame.\n",
      "Try using .loc[row_indexer,col_indexer] = value instead\n",
      "\n",
      "See the caveats in the documentation: https://pandas.pydata.org/pandas-docs/stable/user_guide/indexing.html#returning-a-view-versus-a-copy\n",
      "C:\\Users\\laxmi\\AppData\\Local\\Temp\\ipykernel_8968\\1395030687.py:4: SettingWithCopyWarning: \n",
      "A value is trying to be set on a copy of a slice from a DataFrame.\n",
      "Try using .loc[row_indexer,col_indexer] = value instead\n",
      "\n",
      "See the caveats in the documentation: https://pandas.pydata.org/pandas-docs/stable/user_guide/indexing.html#returning-a-view-versus-a-copy\n",
      "C:\\Users\\laxmi\\AppData\\Local\\Temp\\ipykernel_8968\\1395030687.py:5: SettingWithCopyWarning: \n",
      "A value is trying to be set on a copy of a slice from a DataFrame.\n",
      "Try using .loc[row_indexer,col_indexer] = value instead\n",
      "\n",
      "See the caveats in the documentation: https://pandas.pydata.org/pandas-docs/stable/user_guide/indexing.html#returning-a-view-versus-a-copy\n",
      "C:\\Users\\laxmi\\AppData\\Local\\Temp\\ipykernel_8968\\1395030687.py:7: SettingWithCopyWarning: \n",
      "A value is trying to be set on a copy of a slice from a DataFrame.\n",
      "Try using .loc[row_indexer,col_indexer] = value instead\n",
      "\n",
      "See the caveats in the documentation: https://pandas.pydata.org/pandas-docs/stable/user_guide/indexing.html#returning-a-view-versus-a-copy\n",
      "C:\\Users\\laxmi\\AppData\\Local\\Temp\\ipykernel_8968\\1395030687.py:8: SettingWithCopyWarning: \n",
      "A value is trying to be set on a copy of a slice from a DataFrame.\n",
      "Try using .loc[row_indexer,col_indexer] = value instead\n",
      "\n",
      "See the caveats in the documentation: https://pandas.pydata.org/pandas-docs/stable/user_guide/indexing.html#returning-a-view-versus-a-copy\n"
     ]
    }
   ],
   "source": [
    "train['BMI'] = None\n",
    "train['BMI'] = train['weight'] / ((train['height'] / 100) ** 2)\n",
    "\n",
    "test['BMI'] = None\n",
    "test['BMI'] = test['weight'] / ((test['height'] / 100) ** 2)\n",
    "\n",
    "valid['BMI'] = None\n",
    "valid['BMI'] = valid['weight'] / ((valid['height'] / 100) ** 2)\n"
   ]
  },
  {
   "cell_type": "markdown",
   "id": "32e7778c",
   "metadata": {},
   "source": [
    "# LINEAR REGRESSION"
   ]
  },
  {
   "cell_type": "code",
   "execution_count": 23,
   "id": "3f53a8fd",
   "metadata": {},
   "outputs": [
    {
     "name": "stdout",
     "output_type": "stream",
     "text": [
      "                     Generalized Linear Model Regression Results                      \n",
      "======================================================================================\n",
      "Dep. Variable:     ['cardio[0]', 'cardio[1]']   No. Observations:                47973\n",
      "Model:                                    GLM   Df Residuals:                    47958\n",
      "Model Family:                        Binomial   Df Model:                           14\n",
      "Link Function:                          Logit   Scale:                          1.0000\n",
      "Method:                                  IRLS   Log-Likelihood:                -26934.\n",
      "Date:                        Wed, 19 Jun 2024   Deviance:                       53867.\n",
      "Time:                                14:36:31   Pearson chi2:                 5.56e+04\n",
      "No. Iterations:                             5   Pseudo R-squ. (CS):             0.2315\n",
      "Covariance Type:                    nonrobust                                         \n",
      "==========================================================================================\n",
      "                             coef    std err          z      P>|z|      [0.025      0.975]\n",
      "------------------------------------------------------------------------------------------\n",
      "Intercept                 12.4376      0.768     16.201      0.000      10.933      13.942\n",
      "gender[T.2]               -0.0189      0.024     -0.789      0.430      -0.066       0.028\n",
      "cholesterol[T.2]          -0.3934      0.033    -12.026      0.000      -0.458      -0.329\n",
      "cholesterol[T.3]          -1.0801      0.043    -25.378      0.000      -1.164      -0.997\n",
      "gluc[T.2]                 -0.0314      0.043     -0.725      0.468      -0.116       0.054\n",
      "gluc[T.3]                  0.3138      0.047      6.667      0.000       0.222       0.406\n",
      "smoke[T.1]                 0.1416      0.100      1.420      0.156      -0.054       0.337\n",
      "alco[T.1]                  0.1667      0.050      3.307      0.001       0.068       0.265\n",
      "active[T.1]                0.2300      0.026      8.770      0.000       0.179       0.281\n",
      "gender[T.2]:smoke[T.1]     0.0395      0.108      0.365      0.715      -0.173       0.252\n",
      "age                       -0.0498      0.002    -30.835      0.000      -0.053      -0.047\n",
      "BMI                       -0.0289      0.002    -13.152      0.000      -0.033      -0.025\n",
      "ap_hi                     -0.0649      0.006    -10.618      0.000      -0.077      -0.053\n",
      "ap_lo                     -0.0242      0.009     -2.586      0.010      -0.043      -0.006\n",
      "ap_hi:ap_lo                0.0001   7.23e-05      1.492      0.136   -3.38e-05       0.000\n",
      "==========================================================================================\n"
     ]
    }
   ],
   "source": [
    "import statsmodels.api as sm\n",
    "import pandas as pd\n",
    "from sklearn.model_selection import train_test_split\n",
    "from sklearn.linear_model import LogisticRegression\n",
    "from sklearn import metrics\n",
    "\n",
    "# fit logistic regression model\n",
    "model = sm.formula.glm(formula='cardio~age+ gender + BMI + ap_hi + ap_lo + cholesterol + gluc + smoke + alco + active + (ap_hi*ap_lo) + (gender*smoke)', data=train, family=sm.families.Binomial()).fit()\n",
    "\n",
    "# print summary of model\n",
    "print(model.summary())\n"
   ]
  },
  {
   "cell_type": "code",
   "execution_count": 24,
   "id": "5b446637",
   "metadata": {},
   "outputs": [
    {
     "name": "stdout",
     "output_type": "stream",
     "text": [
      "cardio      0      1\n",
      "pred                \n",
      "No       5150  15804\n",
      "Yes     19067   7952\n"
     ]
    },
    {
     "name": "stderr",
     "output_type": "stream",
     "text": [
      "C:\\Users\\laxmi\\AppData\\Local\\Temp\\ipykernel_8968\\2517348953.py:2: SettingWithCopyWarning: \n",
      "A value is trying to be set on a copy of a slice from a DataFrame.\n",
      "Try using .loc[row_indexer,col_indexer] = value instead\n",
      "\n",
      "See the caveats in the documentation: https://pandas.pydata.org/pandas-docs/stable/user_guide/indexing.html#returning-a-view-versus-a-copy\n",
      "C:\\Users\\laxmi\\AppData\\Local\\Temp\\ipykernel_8968\\2517348953.py:5: SettingWithCopyWarning: \n",
      "A value is trying to be set on a copy of a slice from a DataFrame.\n",
      "Try using .loc[row_indexer,col_indexer] = value instead\n",
      "\n",
      "See the caveats in the documentation: https://pandas.pydata.org/pandas-docs/stable/user_guide/indexing.html#returning-a-view-versus-a-copy\n"
     ]
    }
   ],
   "source": [
    "# add predicted probabilities to train data\n",
    "train['prob'] = model.predict(train)\n",
    "\n",
    "# add predicted class to train data\n",
    "train['pred'] = ['Yes' if x >= 0.50 else 'No' for x in train['prob']]\n",
    "\n",
    "# print confusion matrix\n",
    "print(pd.crosstab(train['pred'], train['cardio']))\n",
    "#print(accuracy_score(train['pred'], train['cardio']))"
   ]
  },
  {
   "cell_type": "markdown",
   "id": "24ec36db",
   "metadata": {},
   "source": [
    "# Logistic Regression"
   ]
  },
  {
   "cell_type": "code",
   "execution_count": 25,
   "id": "17814dc7",
   "metadata": {},
   "outputs": [
    {
     "name": "stdout",
     "output_type": "stream",
     "text": [
      "[0.72717799 0.72530221 0.73113797 0.72670419 0.72503648 0.71899104\n",
      " 0.7375443  0.72316031 0.72232645 0.7214926 ]\n",
      "CV accuracy: 0.7258873542177561\n"
     ]
    }
   ],
   "source": [
    "import pandas as pd\n",
    "import numpy as np\n",
    "from sklearn.model_selection import train_test_split\n",
    "from sklearn.linear_model import LogisticRegression\n",
    "from sklearn.metrics import confusion_matrix\n",
    "from sklearn.model_selection import cross_val_score\n",
    "from sklearn.model_selection import KFold\n",
    "\n",
    "\n",
    "fit_control = KFold(n_splits=10, shuffle=True, random_state=8)\n",
    "train = train.dropna()\n",
    "X = train.drop(['cardio', 'pred', 'prob'], axis=1)\n",
    "y = train['cardio']\n",
    "model_lr = LogisticRegression(fit_intercept=True, solver='liblinear', random_state=8)\n",
    "scores = cross_val_score(model_lr, X, y, cv=fit_control, scoring='accuracy')\n",
    "print(scores)\n",
    "print('CV accuracy:', np.mean(scores))\n"
   ]
  },
  {
   "cell_type": "code",
   "execution_count": 26,
   "id": "b5093826",
   "metadata": {},
   "outputs": [
    {
     "name": "stdout",
     "output_type": "stream",
     "text": [
      "[[ 0.05021716 -0.02181061 -0.05001811  0.05977335  0.05572449  0.01014666\n",
      "   0.49584262 -0.11222998 -0.17638431 -0.1732394  -0.23071195 -0.12893624]]\n"
     ]
    }
   ],
   "source": [
    "model_lr.fit(X, y)\n",
    "print(model_lr.coef_)"
   ]
  },
  {
   "cell_type": "code",
   "execution_count": 27,
   "id": "69a18db9",
   "metadata": {},
   "outputs": [
    {
     "name": "stdout",
     "output_type": "stream",
     "text": [
      "[-3.49711469]\n"
     ]
    }
   ],
   "source": [
    "print(model_lr.intercept_)\n"
   ]
  },
  {
   "cell_type": "code",
   "execution_count": 28,
   "id": "92fb2ae4",
   "metadata": {},
   "outputs": [
    {
     "name": "stdout",
     "output_type": "stream",
     "text": [
      "Index(['age', 'gender', 'height', 'weight', 'ap_hi', 'ap_lo', 'cholesterol',\n",
      "       'gluc', 'smoke', 'alco', 'active', 'BMI'],\n",
      "      dtype='object')\n"
     ]
    }
   ],
   "source": [
    "print(X.columns)\n"
   ]
  },
  {
   "cell_type": "code",
   "execution_count": 29,
   "id": "b1f64bc1",
   "metadata": {},
   "outputs": [
    {
     "name": "stdout",
     "output_type": "stream",
     "text": [
      "         age gender  height  weight  ap_hi  ap_lo cholesterol gluc smoke alco  \\\n",
      "0  50.391781      2     168    62.0    110     80           1    1     0    0   \n",
      "1  55.419178      1     156    85.0    140     90           3    1     0    0   \n",
      "2  51.663014      1     165    64.0    130     70           3    1     0    0   \n",
      "3  48.282192      2     169    82.0    150    100           1    1     0    0   \n",
      "4  47.873973      1     156    56.0    100     60           1    1     0    0   \n",
      "\n",
      "  active cardio        BMI      prob pred  \n",
      "0      1      0  21.967120  0.798869  Yes  \n",
      "1      1      1  34.927679  0.110549   No  \n",
      "2      0      1  23.507805  0.260524   No  \n",
      "3      1      1  28.710479  0.245821   No  \n",
      "4      0      0  23.011177  0.890352  Yes  \n"
     ]
    }
   ],
   "source": [
    "print(train.head())"
   ]
  },
  {
   "cell_type": "markdown",
   "id": "577c629f",
   "metadata": {},
   "source": [
    "# PROBABILITY TESTING"
   ]
  },
  {
   "cell_type": "code",
   "execution_count": 30,
   "id": "f4f4d557",
   "metadata": {},
   "outputs": [
    {
     "name": "stdout",
     "output_type": "stream",
     "text": [
      "cardio     0     1\n",
      "pred              \n",
      "No      1115  3438\n",
      "Yes     4128  1640\n"
     ]
    },
    {
     "name": "stderr",
     "output_type": "stream",
     "text": [
      "C:\\Users\\laxmi\\AppData\\Local\\Temp\\ipykernel_8968\\3183840316.py:1: SettingWithCopyWarning: \n",
      "A value is trying to be set on a copy of a slice from a DataFrame.\n",
      "Try using .loc[row_indexer,col_indexer] = value instead\n",
      "\n",
      "See the caveats in the documentation: https://pandas.pydata.org/pandas-docs/stable/user_guide/indexing.html#returning-a-view-versus-a-copy\n",
      "C:\\Users\\laxmi\\AppData\\Local\\Temp\\ipykernel_8968\\3183840316.py:2: SettingWithCopyWarning: \n",
      "A value is trying to be set on a copy of a slice from a DataFrame.\n",
      "Try using .loc[row_indexer,col_indexer] = value instead\n",
      "\n",
      "See the caveats in the documentation: https://pandas.pydata.org/pandas-docs/stable/user_guide/indexing.html#returning-a-view-versus-a-copy\n"
     ]
    }
   ],
   "source": [
    "test['prob'] = model.predict(test)\n",
    "test['pred'] = np.where(test['prob'] >= 0.50, 'Yes', 'No')\n",
    "table = pd.crosstab(test['pred'], test['cardio'])\n",
    "print(table)"
   ]
  },
  {
   "cell_type": "markdown",
   "id": "5067259d",
   "metadata": {},
   "source": [
    "# RANDOM FOREST"
   ]
  },
  {
   "cell_type": "code",
   "execution_count": 31,
   "id": "a44050cb",
   "metadata": {},
   "outputs": [
    {
     "name": "stdout",
     "output_type": "stream",
     "text": [
      "[[35021     0]\n",
      " [    2 34977]]\n"
     ]
    }
   ],
   "source": [
    "from sklearn.ensemble import RandomForestClassifier\n",
    "from sklearn.metrics import confusion_matrix\n",
    "import pandas as pd\n",
    "\n",
    "\n",
    "# one-hot encoding of categorical variables\n",
    "train = pd.get_dummies(data, columns=['gender', 'cholesterol', 'gluc', 'smoke', 'alco', 'active'])\n",
    "test = pd.get_dummies(data, columns=['gender', 'cholesterol', 'gluc', 'smoke', 'alco', 'active'])\n",
    "\n",
    "X_train = train.drop(['cardio'], axis=1)\n",
    "y_train = train['cardio']\n",
    "X_test = test.drop(['cardio'], axis=1)\n",
    "y_test = test['cardio']\n",
    "\n",
    "random_f = RandomForestClassifier(random_state=100)\n",
    "random_f.fit(X_train, y_train)\n",
    "\n",
    "a = random_f.predict(X_test)\n",
    "cf = confusion_matrix(y_test, a)\n",
    "print(cf)\n",
    "\n"
   ]
  },
  {
   "cell_type": "code",
   "execution_count": 32,
   "id": "59256062",
   "metadata": {},
   "outputs": [
    {
     "name": "stdout",
     "output_type": "stream",
     "text": [
      "0.9999714285714286\n"
     ]
    }
   ],
   "source": [
    "print(accuracy_score(y_train, a))"
   ]
  },
  {
   "cell_type": "markdown",
   "id": "3f8c7754",
   "metadata": {},
   "source": [
    "# Decision Tree"
   ]
  },
  {
   "cell_type": "code",
   "execution_count": 33,
   "id": "0e616fe0",
   "metadata": {},
   "outputs": [
    {
     "data": {
      "text/html": [
       "<div>\n",
       "<style scoped>\n",
       "    .dataframe tbody tr th:only-of-type {\n",
       "        vertical-align: middle;\n",
       "    }\n",
       "\n",
       "    .dataframe tbody tr th {\n",
       "        vertical-align: top;\n",
       "    }\n",
       "\n",
       "    .dataframe thead th {\n",
       "        text-align: right;\n",
       "    }\n",
       "</style>\n",
       "<table border=\"1\" class=\"dataframe\">\n",
       "  <thead>\n",
       "    <tr style=\"text-align: right;\">\n",
       "      <th></th>\n",
       "      <th>id</th>\n",
       "      <th>age</th>\n",
       "      <th>gender</th>\n",
       "      <th>height</th>\n",
       "      <th>weight</th>\n",
       "      <th>ap_hi</th>\n",
       "      <th>ap_lo</th>\n",
       "      <th>cholesterol</th>\n",
       "      <th>gluc</th>\n",
       "      <th>smoke</th>\n",
       "      <th>alco</th>\n",
       "      <th>active</th>\n",
       "      <th>cardio</th>\n",
       "    </tr>\n",
       "  </thead>\n",
       "  <tbody>\n",
       "    <tr>\n",
       "      <th>0</th>\n",
       "      <td>0</td>\n",
       "      <td>18393</td>\n",
       "      <td>2</td>\n",
       "      <td>168</td>\n",
       "      <td>62.0</td>\n",
       "      <td>110</td>\n",
       "      <td>80</td>\n",
       "      <td>1</td>\n",
       "      <td>1</td>\n",
       "      <td>0</td>\n",
       "      <td>0</td>\n",
       "      <td>1</td>\n",
       "      <td>0</td>\n",
       "    </tr>\n",
       "    <tr>\n",
       "      <th>1</th>\n",
       "      <td>1</td>\n",
       "      <td>20228</td>\n",
       "      <td>1</td>\n",
       "      <td>156</td>\n",
       "      <td>85.0</td>\n",
       "      <td>140</td>\n",
       "      <td>90</td>\n",
       "      <td>3</td>\n",
       "      <td>1</td>\n",
       "      <td>0</td>\n",
       "      <td>0</td>\n",
       "      <td>1</td>\n",
       "      <td>1</td>\n",
       "    </tr>\n",
       "    <tr>\n",
       "      <th>2</th>\n",
       "      <td>2</td>\n",
       "      <td>18857</td>\n",
       "      <td>1</td>\n",
       "      <td>165</td>\n",
       "      <td>64.0</td>\n",
       "      <td>130</td>\n",
       "      <td>70</td>\n",
       "      <td>3</td>\n",
       "      <td>1</td>\n",
       "      <td>0</td>\n",
       "      <td>0</td>\n",
       "      <td>0</td>\n",
       "      <td>1</td>\n",
       "    </tr>\n",
       "    <tr>\n",
       "      <th>3</th>\n",
       "      <td>3</td>\n",
       "      <td>17623</td>\n",
       "      <td>2</td>\n",
       "      <td>169</td>\n",
       "      <td>82.0</td>\n",
       "      <td>150</td>\n",
       "      <td>100</td>\n",
       "      <td>1</td>\n",
       "      <td>1</td>\n",
       "      <td>0</td>\n",
       "      <td>0</td>\n",
       "      <td>1</td>\n",
       "      <td>1</td>\n",
       "    </tr>\n",
       "    <tr>\n",
       "      <th>4</th>\n",
       "      <td>4</td>\n",
       "      <td>17474</td>\n",
       "      <td>1</td>\n",
       "      <td>156</td>\n",
       "      <td>56.0</td>\n",
       "      <td>100</td>\n",
       "      <td>60</td>\n",
       "      <td>1</td>\n",
       "      <td>1</td>\n",
       "      <td>0</td>\n",
       "      <td>0</td>\n",
       "      <td>0</td>\n",
       "      <td>0</td>\n",
       "    </tr>\n",
       "  </tbody>\n",
       "</table>\n",
       "</div>"
      ],
      "text/plain": [
       "   id    age  gender  height  weight  ap_hi  ap_lo  cholesterol  gluc  smoke  \\\n",
       "0   0  18393       2     168    62.0    110     80            1     1      0   \n",
       "1   1  20228       1     156    85.0    140     90            3     1      0   \n",
       "2   2  18857       1     165    64.0    130     70            3     1      0   \n",
       "3   3  17623       2     169    82.0    150    100            1     1      0   \n",
       "4   4  17474       1     156    56.0    100     60            1     1      0   \n",
       "\n",
       "   alco  active  cardio  \n",
       "0     0       1       0  \n",
       "1     0       1       1  \n",
       "2     0       0       1  \n",
       "3     0       1       1  \n",
       "4     0       0       0  "
      ]
     },
     "execution_count": 33,
     "metadata": {},
     "output_type": "execute_result"
    }
   ],
   "source": [
    "df = pd.read_csv('heartDS.csv')\n",
    "df.head()"
   ]
  },
  {
   "cell_type": "code",
   "execution_count": 34,
   "id": "ac0b4d44",
   "metadata": {
    "scrolled": true
   },
   "outputs": [
    {
     "data": {
      "text/html": [
       "<div>\n",
       "<style scoped>\n",
       "    .dataframe tbody tr th:only-of-type {\n",
       "        vertical-align: middle;\n",
       "    }\n",
       "\n",
       "    .dataframe tbody tr th {\n",
       "        vertical-align: top;\n",
       "    }\n",
       "\n",
       "    .dataframe thead th {\n",
       "        text-align: right;\n",
       "    }\n",
       "</style>\n",
       "<table border=\"1\" class=\"dataframe\">\n",
       "  <thead>\n",
       "    <tr style=\"text-align: right;\">\n",
       "      <th></th>\n",
       "      <th>age</th>\n",
       "      <th>gender</th>\n",
       "      <th>height</th>\n",
       "      <th>weight</th>\n",
       "      <th>ap_hi</th>\n",
       "      <th>ap_lo</th>\n",
       "      <th>cholesterol</th>\n",
       "      <th>gluc</th>\n",
       "      <th>smoke</th>\n",
       "      <th>alco</th>\n",
       "      <th>active</th>\n",
       "      <th>cardio</th>\n",
       "    </tr>\n",
       "  </thead>\n",
       "  <tbody>\n",
       "    <tr>\n",
       "      <th>0</th>\n",
       "      <td>18393</td>\n",
       "      <td>2</td>\n",
       "      <td>168</td>\n",
       "      <td>62.0</td>\n",
       "      <td>110</td>\n",
       "      <td>80</td>\n",
       "      <td>1</td>\n",
       "      <td>1</td>\n",
       "      <td>0</td>\n",
       "      <td>0</td>\n",
       "      <td>1</td>\n",
       "      <td>0</td>\n",
       "    </tr>\n",
       "    <tr>\n",
       "      <th>1</th>\n",
       "      <td>20228</td>\n",
       "      <td>1</td>\n",
       "      <td>156</td>\n",
       "      <td>85.0</td>\n",
       "      <td>140</td>\n",
       "      <td>90</td>\n",
       "      <td>3</td>\n",
       "      <td>1</td>\n",
       "      <td>0</td>\n",
       "      <td>0</td>\n",
       "      <td>1</td>\n",
       "      <td>1</td>\n",
       "    </tr>\n",
       "    <tr>\n",
       "      <th>2</th>\n",
       "      <td>18857</td>\n",
       "      <td>1</td>\n",
       "      <td>165</td>\n",
       "      <td>64.0</td>\n",
       "      <td>130</td>\n",
       "      <td>70</td>\n",
       "      <td>3</td>\n",
       "      <td>1</td>\n",
       "      <td>0</td>\n",
       "      <td>0</td>\n",
       "      <td>0</td>\n",
       "      <td>1</td>\n",
       "    </tr>\n",
       "    <tr>\n",
       "      <th>3</th>\n",
       "      <td>17623</td>\n",
       "      <td>2</td>\n",
       "      <td>169</td>\n",
       "      <td>82.0</td>\n",
       "      <td>150</td>\n",
       "      <td>100</td>\n",
       "      <td>1</td>\n",
       "      <td>1</td>\n",
       "      <td>0</td>\n",
       "      <td>0</td>\n",
       "      <td>1</td>\n",
       "      <td>1</td>\n",
       "    </tr>\n",
       "    <tr>\n",
       "      <th>4</th>\n",
       "      <td>17474</td>\n",
       "      <td>1</td>\n",
       "      <td>156</td>\n",
       "      <td>56.0</td>\n",
       "      <td>100</td>\n",
       "      <td>60</td>\n",
       "      <td>1</td>\n",
       "      <td>1</td>\n",
       "      <td>0</td>\n",
       "      <td>0</td>\n",
       "      <td>0</td>\n",
       "      <td>0</td>\n",
       "    </tr>\n",
       "  </tbody>\n",
       "</table>\n",
       "</div>"
      ],
      "text/plain": [
       "     age  gender  height  weight  ap_hi  ap_lo  cholesterol  gluc  smoke  \\\n",
       "0  18393       2     168    62.0    110     80            1     1      0   \n",
       "1  20228       1     156    85.0    140     90            3     1      0   \n",
       "2  18857       1     165    64.0    130     70            3     1      0   \n",
       "3  17623       2     169    82.0    150    100            1     1      0   \n",
       "4  17474       1     156    56.0    100     60            1     1      0   \n",
       "\n",
       "   alco  active  cardio  \n",
       "0     0       1       0  \n",
       "1     0       1       1  \n",
       "2     0       0       1  \n",
       "3     0       1       1  \n",
       "4     0       0       0  "
      ]
     },
     "execution_count": 34,
     "metadata": {},
     "output_type": "execute_result"
    }
   ],
   "source": [
    "df = df.drop('id', axis=1)\n",
    "df.head()"
   ]
  },
  {
   "cell_type": "code",
   "execution_count": 35,
   "id": "24b7a693",
   "metadata": {},
   "outputs": [
    {
     "data": {
      "text/html": [
       "<div>\n",
       "<style scoped>\n",
       "    .dataframe tbody tr th:only-of-type {\n",
       "        vertical-align: middle;\n",
       "    }\n",
       "\n",
       "    .dataframe tbody tr th {\n",
       "        vertical-align: top;\n",
       "    }\n",
       "\n",
       "    .dataframe thead th {\n",
       "        text-align: right;\n",
       "    }\n",
       "</style>\n",
       "<table border=\"1\" class=\"dataframe\">\n",
       "  <thead>\n",
       "    <tr style=\"text-align: right;\">\n",
       "      <th></th>\n",
       "      <th>age</th>\n",
       "      <th>gender</th>\n",
       "      <th>height</th>\n",
       "      <th>weight</th>\n",
       "      <th>ap_hi</th>\n",
       "      <th>ap_lo</th>\n",
       "      <th>cholesterol</th>\n",
       "      <th>gluc</th>\n",
       "      <th>smoke</th>\n",
       "      <th>alco</th>\n",
       "      <th>active</th>\n",
       "      <th>cardio</th>\n",
       "    </tr>\n",
       "  </thead>\n",
       "  <tbody>\n",
       "    <tr>\n",
       "      <th>0</th>\n",
       "      <td>50.0</td>\n",
       "      <td>2</td>\n",
       "      <td>168</td>\n",
       "      <td>62.0</td>\n",
       "      <td>110</td>\n",
       "      <td>80</td>\n",
       "      <td>1</td>\n",
       "      <td>1</td>\n",
       "      <td>0</td>\n",
       "      <td>0</td>\n",
       "      <td>1</td>\n",
       "      <td>0</td>\n",
       "    </tr>\n",
       "    <tr>\n",
       "      <th>1</th>\n",
       "      <td>55.0</td>\n",
       "      <td>1</td>\n",
       "      <td>156</td>\n",
       "      <td>85.0</td>\n",
       "      <td>140</td>\n",
       "      <td>90</td>\n",
       "      <td>3</td>\n",
       "      <td>1</td>\n",
       "      <td>0</td>\n",
       "      <td>0</td>\n",
       "      <td>1</td>\n",
       "      <td>1</td>\n",
       "    </tr>\n",
       "    <tr>\n",
       "      <th>2</th>\n",
       "      <td>52.0</td>\n",
       "      <td>1</td>\n",
       "      <td>165</td>\n",
       "      <td>64.0</td>\n",
       "      <td>130</td>\n",
       "      <td>70</td>\n",
       "      <td>3</td>\n",
       "      <td>1</td>\n",
       "      <td>0</td>\n",
       "      <td>0</td>\n",
       "      <td>0</td>\n",
       "      <td>1</td>\n",
       "    </tr>\n",
       "    <tr>\n",
       "      <th>3</th>\n",
       "      <td>48.0</td>\n",
       "      <td>2</td>\n",
       "      <td>169</td>\n",
       "      <td>82.0</td>\n",
       "      <td>150</td>\n",
       "      <td>100</td>\n",
       "      <td>1</td>\n",
       "      <td>1</td>\n",
       "      <td>0</td>\n",
       "      <td>0</td>\n",
       "      <td>1</td>\n",
       "      <td>1</td>\n",
       "    </tr>\n",
       "    <tr>\n",
       "      <th>4</th>\n",
       "      <td>48.0</td>\n",
       "      <td>1</td>\n",
       "      <td>156</td>\n",
       "      <td>56.0</td>\n",
       "      <td>100</td>\n",
       "      <td>60</td>\n",
       "      <td>1</td>\n",
       "      <td>1</td>\n",
       "      <td>0</td>\n",
       "      <td>0</td>\n",
       "      <td>0</td>\n",
       "      <td>0</td>\n",
       "    </tr>\n",
       "  </tbody>\n",
       "</table>\n",
       "</div>"
      ],
      "text/plain": [
       "    age  gender  height  weight  ap_hi  ap_lo  cholesterol  gluc  smoke  alco  \\\n",
       "0  50.0       2     168    62.0    110     80            1     1      0     0   \n",
       "1  55.0       1     156    85.0    140     90            3     1      0     0   \n",
       "2  52.0       1     165    64.0    130     70            3     1      0     0   \n",
       "3  48.0       2     169    82.0    150    100            1     1      0     0   \n",
       "4  48.0       1     156    56.0    100     60            1     1      0     0   \n",
       "\n",
       "   active  cardio  \n",
       "0       1       0  \n",
       "1       1       1  \n",
       "2       0       1  \n",
       "3       1       1  \n",
       "4       0       0  "
      ]
     },
     "execution_count": 35,
     "metadata": {},
     "output_type": "execute_result"
    }
   ],
   "source": [
    "df['age'] = np.round(df['age'] / 365.25)\n",
    "df.head()"
   ]
  },
  {
   "cell_type": "code",
   "execution_count": 36,
   "id": "9cc7a7cc",
   "metadata": {},
   "outputs": [
    {
     "data": {
      "text/html": [
       "<div>\n",
       "<style scoped>\n",
       "    .dataframe tbody tr th:only-of-type {\n",
       "        vertical-align: middle;\n",
       "    }\n",
       "\n",
       "    .dataframe tbody tr th {\n",
       "        vertical-align: top;\n",
       "    }\n",
       "\n",
       "    .dataframe thead th {\n",
       "        text-align: right;\n",
       "    }\n",
       "</style>\n",
       "<table border=\"1\" class=\"dataframe\">\n",
       "  <thead>\n",
       "    <tr style=\"text-align: right;\">\n",
       "      <th></th>\n",
       "      <th>age</th>\n",
       "      <th>gender</th>\n",
       "      <th>height</th>\n",
       "      <th>weight</th>\n",
       "      <th>ap_hi</th>\n",
       "      <th>ap_lo</th>\n",
       "      <th>smoke</th>\n",
       "      <th>alco</th>\n",
       "      <th>active</th>\n",
       "      <th>cardio</th>\n",
       "      <th>cholesterol_1</th>\n",
       "      <th>cholesterol_2</th>\n",
       "      <th>cholesterol_3</th>\n",
       "      <th>gluc_1</th>\n",
       "      <th>gluc_2</th>\n",
       "      <th>gluc_3</th>\n",
       "    </tr>\n",
       "  </thead>\n",
       "  <tbody>\n",
       "    <tr>\n",
       "      <th>0</th>\n",
       "      <td>50.0</td>\n",
       "      <td>2</td>\n",
       "      <td>168</td>\n",
       "      <td>62.0</td>\n",
       "      <td>110</td>\n",
       "      <td>80</td>\n",
       "      <td>0</td>\n",
       "      <td>0</td>\n",
       "      <td>1</td>\n",
       "      <td>0</td>\n",
       "      <td>True</td>\n",
       "      <td>False</td>\n",
       "      <td>False</td>\n",
       "      <td>True</td>\n",
       "      <td>False</td>\n",
       "      <td>False</td>\n",
       "    </tr>\n",
       "    <tr>\n",
       "      <th>1</th>\n",
       "      <td>55.0</td>\n",
       "      <td>1</td>\n",
       "      <td>156</td>\n",
       "      <td>85.0</td>\n",
       "      <td>140</td>\n",
       "      <td>90</td>\n",
       "      <td>0</td>\n",
       "      <td>0</td>\n",
       "      <td>1</td>\n",
       "      <td>1</td>\n",
       "      <td>False</td>\n",
       "      <td>False</td>\n",
       "      <td>True</td>\n",
       "      <td>True</td>\n",
       "      <td>False</td>\n",
       "      <td>False</td>\n",
       "    </tr>\n",
       "    <tr>\n",
       "      <th>2</th>\n",
       "      <td>52.0</td>\n",
       "      <td>1</td>\n",
       "      <td>165</td>\n",
       "      <td>64.0</td>\n",
       "      <td>130</td>\n",
       "      <td>70</td>\n",
       "      <td>0</td>\n",
       "      <td>0</td>\n",
       "      <td>0</td>\n",
       "      <td>1</td>\n",
       "      <td>False</td>\n",
       "      <td>False</td>\n",
       "      <td>True</td>\n",
       "      <td>True</td>\n",
       "      <td>False</td>\n",
       "      <td>False</td>\n",
       "    </tr>\n",
       "    <tr>\n",
       "      <th>3</th>\n",
       "      <td>48.0</td>\n",
       "      <td>2</td>\n",
       "      <td>169</td>\n",
       "      <td>82.0</td>\n",
       "      <td>150</td>\n",
       "      <td>100</td>\n",
       "      <td>0</td>\n",
       "      <td>0</td>\n",
       "      <td>1</td>\n",
       "      <td>1</td>\n",
       "      <td>True</td>\n",
       "      <td>False</td>\n",
       "      <td>False</td>\n",
       "      <td>True</td>\n",
       "      <td>False</td>\n",
       "      <td>False</td>\n",
       "    </tr>\n",
       "    <tr>\n",
       "      <th>4</th>\n",
       "      <td>48.0</td>\n",
       "      <td>1</td>\n",
       "      <td>156</td>\n",
       "      <td>56.0</td>\n",
       "      <td>100</td>\n",
       "      <td>60</td>\n",
       "      <td>0</td>\n",
       "      <td>0</td>\n",
       "      <td>0</td>\n",
       "      <td>0</td>\n",
       "      <td>True</td>\n",
       "      <td>False</td>\n",
       "      <td>False</td>\n",
       "      <td>True</td>\n",
       "      <td>False</td>\n",
       "      <td>False</td>\n",
       "    </tr>\n",
       "  </tbody>\n",
       "</table>\n",
       "</div>"
      ],
      "text/plain": [
       "    age  gender  height  weight  ap_hi  ap_lo  smoke  alco  active  cardio  \\\n",
       "0  50.0       2     168    62.0    110     80      0     0       1       0   \n",
       "1  55.0       1     156    85.0    140     90      0     0       1       1   \n",
       "2  52.0       1     165    64.0    130     70      0     0       0       1   \n",
       "3  48.0       2     169    82.0    150    100      0     0       1       1   \n",
       "4  48.0       1     156    56.0    100     60      0     0       0       0   \n",
       "\n",
       "   cholesterol_1  cholesterol_2  cholesterol_3  gluc_1  gluc_2  gluc_3  \n",
       "0           True          False          False    True   False   False  \n",
       "1          False          False           True    True   False   False  \n",
       "2          False          False           True    True   False   False  \n",
       "3           True          False          False    True   False   False  \n",
       "4           True          False          False    True   False   False  "
      ]
     },
     "execution_count": 36,
     "metadata": {},
     "output_type": "execute_result"
    }
   ],
   "source": [
    "df_new = pd.get_dummies(df, columns=['cholesterol', 'gluc'])\n",
    "df_new.head()"
   ]
  },
  {
   "cell_type": "code",
   "execution_count": 37,
   "id": "aad86870",
   "metadata": {},
   "outputs": [
    {
     "data": {
      "text/html": [
       "<style>#sk-container-id-1 {color: black;}#sk-container-id-1 pre{padding: 0;}#sk-container-id-1 div.sk-toggleable {background-color: white;}#sk-container-id-1 label.sk-toggleable__label {cursor: pointer;display: block;width: 100%;margin-bottom: 0;padding: 0.3em;box-sizing: border-box;text-align: center;}#sk-container-id-1 label.sk-toggleable__label-arrow:before {content: \"▸\";float: left;margin-right: 0.25em;color: #696969;}#sk-container-id-1 label.sk-toggleable__label-arrow:hover:before {color: black;}#sk-container-id-1 div.sk-estimator:hover label.sk-toggleable__label-arrow:before {color: black;}#sk-container-id-1 div.sk-toggleable__content {max-height: 0;max-width: 0;overflow: hidden;text-align: left;background-color: #f0f8ff;}#sk-container-id-1 div.sk-toggleable__content pre {margin: 0.2em;color: black;border-radius: 0.25em;background-color: #f0f8ff;}#sk-container-id-1 input.sk-toggleable__control:checked~div.sk-toggleable__content {max-height: 200px;max-width: 100%;overflow: auto;}#sk-container-id-1 input.sk-toggleable__control:checked~label.sk-toggleable__label-arrow:before {content: \"▾\";}#sk-container-id-1 div.sk-estimator input.sk-toggleable__control:checked~label.sk-toggleable__label {background-color: #d4ebff;}#sk-container-id-1 div.sk-label input.sk-toggleable__control:checked~label.sk-toggleable__label {background-color: #d4ebff;}#sk-container-id-1 input.sk-hidden--visually {border: 0;clip: rect(1px 1px 1px 1px);clip: rect(1px, 1px, 1px, 1px);height: 1px;margin: -1px;overflow: hidden;padding: 0;position: absolute;width: 1px;}#sk-container-id-1 div.sk-estimator {font-family: monospace;background-color: #f0f8ff;border: 1px dotted black;border-radius: 0.25em;box-sizing: border-box;margin-bottom: 0.5em;}#sk-container-id-1 div.sk-estimator:hover {background-color: #d4ebff;}#sk-container-id-1 div.sk-parallel-item::after {content: \"\";width: 100%;border-bottom: 1px solid gray;flex-grow: 1;}#sk-container-id-1 div.sk-label:hover label.sk-toggleable__label {background-color: #d4ebff;}#sk-container-id-1 div.sk-serial::before {content: \"\";position: absolute;border-left: 1px solid gray;box-sizing: border-box;top: 0;bottom: 0;left: 50%;z-index: 0;}#sk-container-id-1 div.sk-serial {display: flex;flex-direction: column;align-items: center;background-color: white;padding-right: 0.2em;padding-left: 0.2em;position: relative;}#sk-container-id-1 div.sk-item {position: relative;z-index: 1;}#sk-container-id-1 div.sk-parallel {display: flex;align-items: stretch;justify-content: center;background-color: white;position: relative;}#sk-container-id-1 div.sk-item::before, #sk-container-id-1 div.sk-parallel-item::before {content: \"\";position: absolute;border-left: 1px solid gray;box-sizing: border-box;top: 0;bottom: 0;left: 50%;z-index: -1;}#sk-container-id-1 div.sk-parallel-item {display: flex;flex-direction: column;z-index: 1;position: relative;background-color: white;}#sk-container-id-1 div.sk-parallel-item:first-child::after {align-self: flex-end;width: 50%;}#sk-container-id-1 div.sk-parallel-item:last-child::after {align-self: flex-start;width: 50%;}#sk-container-id-1 div.sk-parallel-item:only-child::after {width: 0;}#sk-container-id-1 div.sk-dashed-wrapped {border: 1px dashed gray;margin: 0 0.4em 0.5em 0.4em;box-sizing: border-box;padding-bottom: 0.4em;background-color: white;}#sk-container-id-1 div.sk-label label {font-family: monospace;font-weight: bold;display: inline-block;line-height: 1.2em;}#sk-container-id-1 div.sk-label-container {text-align: center;}#sk-container-id-1 div.sk-container {/* jupyter's `normalize.less` sets `[hidden] { display: none; }` but bootstrap.min.css set `[hidden] { display: none !important; }` so we also need the `!important` here to be able to override the default hidden behavior on the sphinx rendered scikit-learn.org. See: https://github.com/scikit-learn/scikit-learn/issues/21755 */display: inline-block !important;position: relative;}#sk-container-id-1 div.sk-text-repr-fallback {display: none;}</style><div id=\"sk-container-id-1\" class=\"sk-top-container\"><div class=\"sk-text-repr-fallback\"><pre>DecisionTreeClassifier()</pre><b>In a Jupyter environment, please rerun this cell to show the HTML representation or trust the notebook. <br />On GitHub, the HTML representation is unable to render, please try loading this page with nbviewer.org.</b></div><div class=\"sk-container\" hidden><div class=\"sk-item\"><div class=\"sk-estimator sk-toggleable\"><input class=\"sk-toggleable__control sk-hidden--visually\" id=\"sk-estimator-id-1\" type=\"checkbox\" checked><label for=\"sk-estimator-id-1\" class=\"sk-toggleable__label sk-toggleable__label-arrow\">DecisionTreeClassifier</label><div class=\"sk-toggleable__content\"><pre>DecisionTreeClassifier()</pre></div></div></div></div></div>"
      ],
      "text/plain": [
       "DecisionTreeClassifier()"
      ]
     },
     "execution_count": 37,
     "metadata": {},
     "output_type": "execute_result"
    }
   ],
   "source": [
    "X = df_new.drop('cardio', axis=1)\n",
    "y = df_new['cardio']\n",
    "\n",
    "from sklearn.model_selection import train_test_split\n",
    "X_train, X_valid, y_train, y_valid = train_test_split(X, y, test_size=0.25, random_state=22)\n",
    "\n",
    "tree = DecisionTreeClassifier()\n",
    "tree.fit(X_train, y_train)"
   ]
  },
  {
   "cell_type": "code",
   "execution_count": 38,
   "id": "a86b47b7",
   "metadata": {},
   "outputs": [
    {
     "name": "stdout",
     "output_type": "stream",
     "text": [
      "0.6361714285714286\n"
     ]
    }
   ],
   "source": [
    "y_pred = tree.predict(X_valid)\n",
    "print(accuracy_score(y_valid, y_pred))"
   ]
  },
  {
   "cell_type": "markdown",
   "id": "402e79fe-1f4e-4e61-918a-5ae5f4221b4b",
   "metadata": {},
   "source": [
    "## CNN"
   ]
  },
  {
   "cell_type": "code",
   "execution_count": 39,
   "id": "50bcf6fd",
   "metadata": {},
   "outputs": [
    {
     "name": "stderr",
     "output_type": "stream",
     "text": [
      "C:\\Users\\laxmi\\AppData\\Local\\Programs\\Python\\Python311\\Lib\\site-packages\\keras\\src\\layers\\convolutional\\base_conv.py:107: UserWarning: Do not pass an `input_shape`/`input_dim` argument to a layer. When using Sequential models, prefer using an `Input(shape)` object as the first layer in the model instead.\n"
     ]
    },
    {
     "name": "stdout",
     "output_type": "stream",
     "text": [
      "Epoch 1/10\n",
      "\u001b[1m1713/1713\u001b[0m \u001b[32m━━━━━━━━━━━━━━━━━━━━\u001b[0m\u001b[37m\u001b[0m \u001b[1m20s\u001b[0m 8ms/step - accuracy: 0.7175 - loss: 0.5690 - val_accuracy: 0.7261 - val_loss: 0.5571\n",
      "Epoch 2/10\n",
      "\u001b[1m1713/1713\u001b[0m \u001b[32m━━━━━━━━━━━━━━━━━━━━\u001b[0m\u001b[37m\u001b[0m \u001b[1m12s\u001b[0m 7ms/step - accuracy: 0.7268 - loss: 0.5530 - val_accuracy: 0.7294 - val_loss: 0.5525\n",
      "Epoch 3/10\n",
      "\u001b[1m1713/1713\u001b[0m \u001b[32m━━━━━━━━━━━━━━━━━━━━\u001b[0m\u001b[37m\u001b[0m \u001b[1m12s\u001b[0m 7ms/step - accuracy: 0.7291 - loss: 0.5502 - val_accuracy: 0.7290 - val_loss: 0.5509\n",
      "Epoch 4/10\n",
      "\u001b[1m1713/1713\u001b[0m \u001b[32m━━━━━━━━━━━━━━━━━━━━\u001b[0m\u001b[37m\u001b[0m \u001b[1m12s\u001b[0m 7ms/step - accuracy: 0.7281 - loss: 0.5489 - val_accuracy: 0.7308 - val_loss: 0.5469\n",
      "Epoch 5/10\n",
      "\u001b[1m1713/1713\u001b[0m \u001b[32m━━━━━━━━━━━━━━━━━━━━\u001b[0m\u001b[37m\u001b[0m \u001b[1m11s\u001b[0m 6ms/step - accuracy: 0.7292 - loss: 0.5473 - val_accuracy: 0.7275 - val_loss: 0.5499\n",
      "Epoch 6/10\n",
      "\u001b[1m1713/1713\u001b[0m \u001b[32m━━━━━━━━━━━━━━━━━━━━\u001b[0m\u001b[37m\u001b[0m \u001b[1m12s\u001b[0m 7ms/step - accuracy: 0.7327 - loss: 0.5452 - val_accuracy: 0.7278 - val_loss: 0.5478\n",
      "Epoch 7/10\n",
      "\u001b[1m1713/1713\u001b[0m \u001b[32m━━━━━━━━━━━━━━━━━━━━\u001b[0m\u001b[37m\u001b[0m \u001b[1m22s\u001b[0m 8ms/step - accuracy: 0.7362 - loss: 0.5407 - val_accuracy: 0.7323 - val_loss: 0.5463\n",
      "Epoch 8/10\n",
      "\u001b[1m1713/1713\u001b[0m \u001b[32m━━━━━━━━━━━━━━━━━━━━\u001b[0m\u001b[37m\u001b[0m \u001b[1m13s\u001b[0m 8ms/step - accuracy: 0.7301 - loss: 0.5446 - val_accuracy: 0.7323 - val_loss: 0.5490\n",
      "Epoch 9/10\n",
      "\u001b[1m1713/1713\u001b[0m \u001b[32m━━━━━━━━━━━━━━━━━━━━\u001b[0m\u001b[37m\u001b[0m \u001b[1m21s\u001b[0m 8ms/step - accuracy: 0.7332 - loss: 0.5421 - val_accuracy: 0.7281 - val_loss: 0.5485\n",
      "Epoch 10/10\n",
      "\u001b[1m1713/1713\u001b[0m \u001b[32m━━━━━━━━━━━━━━━━━━━━\u001b[0m\u001b[37m\u001b[0m \u001b[1m20s\u001b[0m 7ms/step - accuracy: 0.7293 - loss: 0.5466 - val_accuracy: 0.7319 - val_loss: 0.5474\n",
      "\u001b[1m429/429\u001b[0m \u001b[32m━━━━━━━━━━━━━━━━━━━━\u001b[0m\u001b[37m\u001b[0m \u001b[1m2s\u001b[0m 5ms/step\n",
      "Accuracy: 0.7319226559649763\n",
      "Confusion Matrix:\n",
      " [[5430 1478]\n",
      " [2196 4601]]\n"
     ]
    }
   ],
   "source": [
    "import pandas as pd\n",
    "import numpy as np\n",
    "import tensorflow as tf\n",
    "from tensorflow import keras\n",
    "from sklearn.model_selection import train_test_split\n",
    "from sklearn.metrics import accuracy_score, confusion_matrix\n",
    "from sklearn.preprocessing import StandardScaler\n",
    "\n",
    "# Data preprocessing (as in your original code, including filtering)\n",
    "# ... (data1 preparation)\n",
    "\n",
    "# Splitting data\n",
    "X = data1.drop('cardio', axis=1).values  # Feature values\n",
    "y = data1['cardio'].values  # Target values\n",
    "\n",
    "X_train, X_test, y_train, y_test = train_test_split(X, y, test_size=0.2, random_state=42)\n",
    "\n",
    "# Feature scaling\n",
    "scaler = StandardScaler()\n",
    "X_train = scaler.fit_transform(X_train)\n",
    "X_test = scaler.transform(X_test)\n",
    "\n",
    "# Reshape for CNN (add a 2nd dimension)\n",
    "X_train = X_train.reshape((X_train.shape[0], X_train.shape[1], 1))\n",
    "X_test = X_test.reshape((X_test.shape[0], X_test.shape[1], 1))\n",
    "\n",
    "# CNN model\n",
    "model = keras.Sequential([\n",
    "    keras.layers.Conv1D(32, kernel_size=3, activation='relu', input_shape=(X_train.shape[1], 1)),\n",
    "    keras.layers.MaxPooling1D(pool_size=2),\n",
    "    keras.layers.Flatten(),\n",
    "    keras.layers.Dense(16, activation='relu'),\n",
    "    keras.layers.Dense(1, activation='sigmoid')  # Binary classification (cardio or not)\n",
    "])\n",
    "\n",
    "model.compile(loss='binary_crossentropy', optimizer='adam', metrics=['accuracy'])\n",
    "\n",
    "# Training\n",
    "model.fit(X_train, y_train, epochs=10, batch_size=32, validation_data=(X_test, y_test))\n",
    "\n",
    "# Evaluation\n",
    "y_pred = (model.predict(X_test) > 0.5).astype(int)\n",
    "accuracy = accuracy_score(y_test, y_pred)\n",
    "cm = confusion_matrix(y_test, y_pred)\n",
    "\n",
    "print(\"Accuracy:\", accuracy)\n",
    "print(\"Confusion Matrix:\\n\", cm)\n"
   ]
  },
  {
   "cell_type": "code",
   "execution_count": null,
   "id": "3399d181",
   "metadata": {},
   "outputs": [],
   "source": []
  }
 ],
 "metadata": {
  "kernelspec": {
   "display_name": "Python 3 (ipykernel)",
   "language": "python",
   "name": "python3"
  },
  "language_info": {
   "codemirror_mode": {
    "name": "ipython",
    "version": 3
   },
   "file_extension": ".py",
   "mimetype": "text/x-python",
   "name": "python",
   "nbconvert_exporter": "python",
   "pygments_lexer": "ipython3",
   "version": "3.11.0"
  }
 },
 "nbformat": 4,
 "nbformat_minor": 5
}
